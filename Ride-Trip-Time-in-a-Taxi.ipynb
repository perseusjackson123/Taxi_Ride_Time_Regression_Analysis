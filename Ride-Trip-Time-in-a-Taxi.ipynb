{
 "cells": [
  {
   "cell_type": "markdown",
   "id": "dd93fc2e",
   "metadata": {
    "papermill": {
     "duration": 0.059664,
     "end_time": "2021-12-31T20:00:07.350446",
     "exception": false,
     "start_time": "2021-12-31T20:00:07.290782",
     "status": "completed"
    },
    "tags": []
   },
   "source": [
    "---\n",
    "\n",
    "<p style=\"font-name: monospace; line-height: 2; font-size: 30px; font-weight: bold; letter-spacing: 2px; text-align: center;\">Taxi Ride Duration Prediction- A Regression Analysis - Risith Roy</p>\n",
    "\n",
    "---"
   ]
  },
  {
   "cell_type": "markdown",
   "id": "69ef877b",
   "metadata": {
    "papermill": {
     "duration": 0.05392,
     "end_time": "2021-12-31T20:00:07.676792",
     "exception": false,
     "start_time": "2021-12-31T20:00:07.622872",
     "status": "completed"
    },
    "tags": []
   },
   "source": [
    "# **Regression with Neural Networks in TensorFlow**\n",
    "\n",
    "**Regression Analysis** is a set of statistical processes for estimating the relationships between a **dependent variable (often called 'outcome variable') or y / Label** and one or more **independent variable (often called 'predictors', 'covariates', or 'features') or X / our input Features cols.**\n",
    "\n",
    "### **Architecture of a Regreesion Model:**\n",
    "\n",
    "- **Input layer shape:** Same shape as the number of features.\n",
    "- **Hidden layer(s):** Customizable, with a minimum of 1 hidden layer and no maximum limit.\n",
    "- **Neurons per hidden layer:** Typically 10 to 100 neurons per hidden layer.\n",
    "- **Output layer shape:** Matches the desired prediction shape.\n",
    "- **Hidden activation:** Often utilizes `ReLU` (Rectified Linear Unit) activation function.\n",
    "- **Output activation:** Can be `None` for regression, `ReLU` for positive values, or `logistic/tanh` for binary classification.\n",
    "- **Loss function:** Typically `MSE` (Mean Square Error) or `MAE` (Mean Absolute Error) for regression, or `Huber` for handling outliers.\n",
    "- **Optimizer:** Choices include `SGD` (Stochastic Gradient Descent) or `Adam`, used for updating neural network weights during training.\n"
   ]
  },
  {
   "cell_type": "markdown",
   "id": "c797a831",
   "metadata": {
    "papermill": {
     "duration": 0.054125,
     "end_time": "2021-12-31T20:00:07.785004",
     "exception": false,
     "start_time": "2021-12-31T20:00:07.730879",
     "status": "completed"
    },
    "tags": []
   },
   "source": [
    "---"
   ]
  },
  {
   "cell_type": "markdown",
   "id": "0a14d8cb",
   "metadata": {
    "papermill": {
     "duration": 0.05396,
     "end_time": "2021-12-31T20:00:07.893506",
     "exception": false,
     "start_time": "2021-12-31T20:00:07.839546",
     "status": "completed"
    },
    "tags": []
   },
   "source": [
    "# **Description:**\n",
    "\n",
    "The dataset utilized in this context is derived from the 2016 NYC Yellow Cab trip record data, which is accessible through Google Cloud Platform's Big Query service. This data was initially released by the NYC Taxi and Limousine Commission (TLC). For the specific requirements of this code , the dataset was subjected to sampling and cleaning. Participants are tasked with predicting the duration of individual trips in the test set based on various trip attributes.\n",
    "\n",
    "The datset contains the following fields:\n",
    "\n",
    "#### **Independent Variables**\n",
    "\n",
    "* `id` - a unique identifier for each trip.\n",
    "* `vendorid` - a code indicating the provider associated with the trip record. \n",
    "* `pickupdatetime` - date and time when the meter was engaged.\n",
    "* `dropoffdatetime` - date and time when the meter was disengaged.\n",
    "* `passengercount` - the number of passengers in the vehicle (driver entered value).\n",
    "* `pickuplongitude` - the longitude where the meter was engaged .\n",
    "* `pickuplatitude` - the latitude where the meter was engaged.\n",
    "* `dropofflongitude` - the longitude where the meter was disengaged .\n",
    "* `dropofflatitude` - the latitude where the meter was disengaged.\n",
    "* `store_and_fwd_flag` — This flag indicates whether the trip record was held in vehicle memory before sending to the vendor because the vehicle did not have a connection to the server — Y=store and forward; N=not a store and forward trip.\n",
    "\n",
    "#### **Dependent Variables**\n",
    "\n",
    "* `trip_duration` — duration of the trip in seconds.\n",
    " "
   ]
  },
  {
   "cell_type": "markdown",
   "id": "37f0d1a2",
   "metadata": {
    "papermill": {
     "duration": 0.055075,
     "end_time": "2021-12-31T20:00:08.002686",
     "exception": false,
     "start_time": "2021-12-31T20:00:07.947611",
     "status": "completed"
    },
    "tags": []
   },
   "source": [
    "---"
   ]
  },
  {
   "cell_type": "markdown",
   "id": "a5e8e23a",
   "metadata": {
    "papermill": {
     "duration": 0.084838,
     "end_time": "2021-12-31T20:00:08.251882",
     "exception": false,
     "start_time": "2021-12-31T20:00:08.167044",
     "status": "completed"
    },
    "tags": []
   },
   "source": [
    "---"
   ]
  },
  {
   "cell_type": "markdown",
   "id": "c97f6b40",
   "metadata": {
    "papermill": {
     "duration": 0.053744,
     "end_time": "2021-12-31T20:00:08.469645",
     "exception": false,
     "start_time": "2021-12-31T20:00:08.415901",
     "status": "completed"
    },
    "tags": []
   },
   "source": [
    "---"
   ]
  },
  {
   "cell_type": "markdown",
   "id": "98329375",
   "metadata": {
    "papermill": {
     "duration": 0.054069,
     "end_time": "2021-12-31T20:00:08.577842",
     "exception": false,
     "start_time": "2021-12-31T20:00:08.523773",
     "status": "completed"
    },
    "tags": []
   },
   "source": [
    "# **Import Libraries**\n",
    "\n",
    "Import the dependencies libraies that we need for this research..."
   ]
  },
  {
   "cell_type": "code",
   "execution_count": 1,
   "id": "5803cb47",
   "metadata": {
    "execution": {
     "iopub.execute_input": "2021-12-31T20:00:08.751882Z",
     "iopub.status.busy": "2021-12-31T20:00:08.750798Z",
     "iopub.status.idle": "2021-12-31T20:00:14.266708Z",
     "shell.execute_reply": "2021-12-31T20:00:14.266118Z",
     "shell.execute_reply.started": "2021-12-30T18:45:52.135311Z"
    },
    "papermill": {
     "duration": 5.611867,
     "end_time": "2021-12-31T20:00:14.266858",
     "exception": false,
     "start_time": "2021-12-31T20:00:08.654991",
     "status": "completed"
    },
    "tags": []
   },
   "outputs": [
    {
     "name": "stdout",
     "output_type": "stream",
     "text": [
      "setup-complete!\n"
     ]
    }
   ],
   "source": [
    "import pandas as pd\n",
    "import os\n",
    "import numpy as np\n",
    "import seaborn as sns\n",
    "import warnings\n",
    "import tensorflow as tf\n",
    "from tensorflow.keras import layers\n",
    "from matplotlib import pylab as plt\n",
    "from statsmodels.graphics.gofplots import qqplot\n",
    "from IPython.core.interactiveshell import InteractiveShell\n",
    "\n",
    "warnings.simplefilter(action=\"ignore\", category=FutureWarning)\n",
    "warnings.simplefilter(action=\"ignore\", category=Warning)\n",
    "InteractiveShell.ast_node_interactivity = 'all'\n",
    "\n",
    "%reload_ext autoreload\n",
    "%autoreload 2\n",
    "%matplotlib inline\n",
    "\n",
    "def set_seed(seed=42):\n",
    "    np.random.seed(seed)\n",
    "    tf.random.set_seed(seed)\n",
    "    os.environ[\"PYTHONHASHSEED\"] = str(seed)\n",
    "    os.environ[\"TF_DETERMINISTIC_OPS\"] = \"1\"\n",
    "set_seed()\n",
    "\n",
    "sns.set_style('whitegrid')\n",
    "sns.set_context('paper', font_scale=1.5)\n",
    "plt.style.use('fivethirtyeight')\n",
    "pd.set_option(\"display.width\", 100)\n",
    "pd.set_option(\"display.max_columns\", 25)\n",
    "pd.set_option(\"display.max_rows\", 20)\n",
    "\n",
    "print(\"setup-complete!\")"
   ]
  },
  {
   "cell_type": "markdown",
   "id": "c32140c6",
   "metadata": {
    "papermill": {
     "duration": 0.054638,
     "end_time": "2021-12-31T20:00:14.380010",
     "exception": false,
     "start_time": "2021-12-31T20:00:14.325372",
     "status": "completed"
    },
    "tags": []
   },
   "source": [
    "# **Read-in Data**"
   ]
  },
  {
   "cell_type": "code",
   "execution_count": 2,
   "id": "c4d28b15",
   "metadata": {
    "execution": {
     "iopub.execute_input": "2021-12-31T20:00:14.493376Z",
     "iopub.status.busy": "2021-12-31T20:00:14.492605Z",
     "iopub.status.idle": "2021-12-31T20:00:22.142960Z",
     "shell.execute_reply": "2021-12-31T20:00:22.142490Z",
     "shell.execute_reply.started": "2021-12-30T18:45:59.504596Z"
    },
    "papermill": {
     "duration": 7.707904,
     "end_time": "2021-12-31T20:00:22.143093",
     "exception": false,
     "start_time": "2021-12-31T20:00:14.435189",
     "status": "completed"
    },
    "tags": []
   },
   "outputs": [],
   "source": [
    "raw = \"../input/nyc-taxi-trip-duration/NYC.csv\"\n",
    "taxi_data = pd.read_csv(raw, low_memory=False)"
   ]
  },
  {
   "cell_type": "markdown",
   "id": "860cdb46",
   "metadata": {
    "papermill": {
     "duration": 0.053855,
     "end_time": "2021-12-31T20:00:22.252363",
     "exception": false,
     "start_time": "2021-12-31T20:00:22.198508",
     "status": "completed"
    },
    "tags": []
   },
   "source": [
    "# **Check Data**\n",
    "\n",
    "Let's see the data and how it looks."
   ]
  },
  {
   "cell_type": "code",
   "execution_count": 3,
   "id": "52f11dfe",
   "metadata": {
    "execution": {
     "iopub.execute_input": "2021-12-31T20:00:22.369686Z",
     "iopub.status.busy": "2021-12-31T20:00:22.368920Z",
     "iopub.status.idle": "2021-12-31T20:00:22.441197Z",
     "shell.execute_reply": "2021-12-31T20:00:22.441635Z",
     "shell.execute_reply.started": "2021-12-30T18:46:07.701525Z"
    },
    "papermill": {
     "duration": 0.13504,
     "end_time": "2021-12-31T20:00:22.441760",
     "exception": false,
     "start_time": "2021-12-31T20:00:22.306720",
     "status": "completed"
    },
    "tags": []
   },
   "outputs": [
    {
     "data": {
      "text/html": [
       "<div>\n",
       "<style scoped>\n",
       "    .dataframe tbody tr th:only-of-type {\n",
       "        vertical-align: middle;\n",
       "    }\n",
       "\n",
       "    .dataframe tbody tr th {\n",
       "        vertical-align: top;\n",
       "    }\n",
       "\n",
       "    .dataframe thead th {\n",
       "        text-align: right;\n",
       "    }\n",
       "</style>\n",
       "<table border=\"1\" class=\"dataframe\">\n",
       "  <thead>\n",
       "    <tr style=\"text-align: right;\">\n",
       "      <th></th>\n",
       "      <th>id</th>\n",
       "      <th>vendor_id</th>\n",
       "      <th>pickup_datetime</th>\n",
       "      <th>dropoff_datetime</th>\n",
       "      <th>passenger_count</th>\n",
       "      <th>pickup_longitude</th>\n",
       "      <th>pickup_latitude</th>\n",
       "      <th>dropoff_longitude</th>\n",
       "      <th>dropoff_latitude</th>\n",
       "      <th>store_and_fwd_flag</th>\n",
       "      <th>trip_duration</th>\n",
       "    </tr>\n",
       "  </thead>\n",
       "  <tbody>\n",
       "    <tr>\n",
       "      <th>0</th>\n",
       "      <td>id2875421</td>\n",
       "      <td>2</td>\n",
       "      <td>2016-03-14 17:24:55</td>\n",
       "      <td>2016-03-14 17:32:30</td>\n",
       "      <td>1</td>\n",
       "      <td>-73.982155</td>\n",
       "      <td>40.767937</td>\n",
       "      <td>-73.964630</td>\n",
       "      <td>40.765602</td>\n",
       "      <td>N</td>\n",
       "      <td>455</td>\n",
       "    </tr>\n",
       "    <tr>\n",
       "      <th>1</th>\n",
       "      <td>id2377394</td>\n",
       "      <td>1</td>\n",
       "      <td>2016-06-12 00:43:35</td>\n",
       "      <td>2016-06-12 00:54:38</td>\n",
       "      <td>1</td>\n",
       "      <td>-73.980415</td>\n",
       "      <td>40.738564</td>\n",
       "      <td>-73.999481</td>\n",
       "      <td>40.731152</td>\n",
       "      <td>N</td>\n",
       "      <td>663</td>\n",
       "    </tr>\n",
       "    <tr>\n",
       "      <th>2</th>\n",
       "      <td>id3858529</td>\n",
       "      <td>2</td>\n",
       "      <td>2016-01-19 11:35:24</td>\n",
       "      <td>2016-01-19 12:10:48</td>\n",
       "      <td>1</td>\n",
       "      <td>-73.979027</td>\n",
       "      <td>40.763939</td>\n",
       "      <td>-74.005333</td>\n",
       "      <td>40.710087</td>\n",
       "      <td>N</td>\n",
       "      <td>2124</td>\n",
       "    </tr>\n",
       "    <tr>\n",
       "      <th>3</th>\n",
       "      <td>id3504673</td>\n",
       "      <td>2</td>\n",
       "      <td>2016-04-06 19:32:31</td>\n",
       "      <td>2016-04-06 19:39:40</td>\n",
       "      <td>1</td>\n",
       "      <td>-74.010040</td>\n",
       "      <td>40.719971</td>\n",
       "      <td>-74.012268</td>\n",
       "      <td>40.706718</td>\n",
       "      <td>N</td>\n",
       "      <td>429</td>\n",
       "    </tr>\n",
       "    <tr>\n",
       "      <th>4</th>\n",
       "      <td>id2181028</td>\n",
       "      <td>2</td>\n",
       "      <td>2016-03-26 13:30:55</td>\n",
       "      <td>2016-03-26 13:38:10</td>\n",
       "      <td>1</td>\n",
       "      <td>-73.973053</td>\n",
       "      <td>40.793209</td>\n",
       "      <td>-73.972923</td>\n",
       "      <td>40.782520</td>\n",
       "      <td>N</td>\n",
       "      <td>435</td>\n",
       "    </tr>\n",
       "    <tr>\n",
       "      <th>...</th>\n",
       "      <td>...</td>\n",
       "      <td>...</td>\n",
       "      <td>...</td>\n",
       "      <td>...</td>\n",
       "      <td>...</td>\n",
       "      <td>...</td>\n",
       "      <td>...</td>\n",
       "      <td>...</td>\n",
       "      <td>...</td>\n",
       "      <td>...</td>\n",
       "      <td>...</td>\n",
       "    </tr>\n",
       "    <tr>\n",
       "      <th>1458639</th>\n",
       "      <td>id2376096</td>\n",
       "      <td>2</td>\n",
       "      <td>2016-04-08 13:31:04</td>\n",
       "      <td>2016-04-08 13:44:02</td>\n",
       "      <td>4</td>\n",
       "      <td>-73.982201</td>\n",
       "      <td>40.745522</td>\n",
       "      <td>-73.994911</td>\n",
       "      <td>40.740170</td>\n",
       "      <td>N</td>\n",
       "      <td>778</td>\n",
       "    </tr>\n",
       "    <tr>\n",
       "      <th>1458640</th>\n",
       "      <td>id1049543</td>\n",
       "      <td>1</td>\n",
       "      <td>2016-01-10 07:35:15</td>\n",
       "      <td>2016-01-10 07:46:10</td>\n",
       "      <td>1</td>\n",
       "      <td>-74.000946</td>\n",
       "      <td>40.747379</td>\n",
       "      <td>-73.970184</td>\n",
       "      <td>40.796547</td>\n",
       "      <td>N</td>\n",
       "      <td>655</td>\n",
       "    </tr>\n",
       "    <tr>\n",
       "      <th>1458641</th>\n",
       "      <td>id2304944</td>\n",
       "      <td>2</td>\n",
       "      <td>2016-04-22 06:57:41</td>\n",
       "      <td>2016-04-22 07:10:25</td>\n",
       "      <td>1</td>\n",
       "      <td>-73.959129</td>\n",
       "      <td>40.768799</td>\n",
       "      <td>-74.004433</td>\n",
       "      <td>40.707371</td>\n",
       "      <td>N</td>\n",
       "      <td>764</td>\n",
       "    </tr>\n",
       "    <tr>\n",
       "      <th>1458642</th>\n",
       "      <td>id2714485</td>\n",
       "      <td>1</td>\n",
       "      <td>2016-01-05 15:56:26</td>\n",
       "      <td>2016-01-05 16:02:39</td>\n",
       "      <td>1</td>\n",
       "      <td>-73.982079</td>\n",
       "      <td>40.749062</td>\n",
       "      <td>-73.974632</td>\n",
       "      <td>40.757107</td>\n",
       "      <td>N</td>\n",
       "      <td>373</td>\n",
       "    </tr>\n",
       "    <tr>\n",
       "      <th>1458643</th>\n",
       "      <td>id1209952</td>\n",
       "      <td>1</td>\n",
       "      <td>2016-04-05 14:44:25</td>\n",
       "      <td>2016-04-05 14:47:43</td>\n",
       "      <td>1</td>\n",
       "      <td>-73.979538</td>\n",
       "      <td>40.781750</td>\n",
       "      <td>-73.972809</td>\n",
       "      <td>40.790585</td>\n",
       "      <td>N</td>\n",
       "      <td>198</td>\n",
       "    </tr>\n",
       "  </tbody>\n",
       "</table>\n",
       "<p>1458644 rows × 11 columns</p>\n",
       "</div>"
      ],
      "text/plain": [
       "                id  vendor_id      pickup_datetime     dropoff_datetime  passenger_count  \\\n",
       "0        id2875421          2  2016-03-14 17:24:55  2016-03-14 17:32:30                1   \n",
       "1        id2377394          1  2016-06-12 00:43:35  2016-06-12 00:54:38                1   \n",
       "2        id3858529          2  2016-01-19 11:35:24  2016-01-19 12:10:48                1   \n",
       "3        id3504673          2  2016-04-06 19:32:31  2016-04-06 19:39:40                1   \n",
       "4        id2181028          2  2016-03-26 13:30:55  2016-03-26 13:38:10                1   \n",
       "...            ...        ...                  ...                  ...              ...   \n",
       "1458639  id2376096          2  2016-04-08 13:31:04  2016-04-08 13:44:02                4   \n",
       "1458640  id1049543          1  2016-01-10 07:35:15  2016-01-10 07:46:10                1   \n",
       "1458641  id2304944          2  2016-04-22 06:57:41  2016-04-22 07:10:25                1   \n",
       "1458642  id2714485          1  2016-01-05 15:56:26  2016-01-05 16:02:39                1   \n",
       "1458643  id1209952          1  2016-04-05 14:44:25  2016-04-05 14:47:43                1   \n",
       "\n",
       "         pickup_longitude  pickup_latitude  dropoff_longitude  dropoff_latitude  \\\n",
       "0              -73.982155        40.767937         -73.964630         40.765602   \n",
       "1              -73.980415        40.738564         -73.999481         40.731152   \n",
       "2              -73.979027        40.763939         -74.005333         40.710087   \n",
       "3              -74.010040        40.719971         -74.012268         40.706718   \n",
       "4              -73.973053        40.793209         -73.972923         40.782520   \n",
       "...                   ...              ...                ...               ...   \n",
       "1458639        -73.982201        40.745522         -73.994911         40.740170   \n",
       "1458640        -74.000946        40.747379         -73.970184         40.796547   \n",
       "1458641        -73.959129        40.768799         -74.004433         40.707371   \n",
       "1458642        -73.982079        40.749062         -73.974632         40.757107   \n",
       "1458643        -73.979538        40.781750         -73.972809         40.790585   \n",
       "\n",
       "        store_and_fwd_flag  trip_duration  \n",
       "0                        N            455  \n",
       "1                        N            663  \n",
       "2                        N           2124  \n",
       "3                        N            429  \n",
       "4                        N            435  \n",
       "...                    ...            ...  \n",
       "1458639                  N            778  \n",
       "1458640                  N            655  \n",
       "1458641                  N            764  \n",
       "1458642                  N            373  \n",
       "1458643                  N            198  \n",
       "\n",
       "[1458644 rows x 11 columns]"
      ]
     },
     "execution_count": 3,
     "metadata": {},
     "output_type": "execute_result"
    }
   ],
   "source": [
    "taxi_data # check all data"
   ]
  },
  {
   "cell_type": "markdown",
   "id": "214f393b",
   "metadata": {
    "papermill": {
     "duration": 0.05429,
     "end_time": "2021-12-31T20:00:22.550923",
     "exception": false,
     "start_time": "2021-12-31T20:00:22.496633",
     "status": "completed"
    },
    "tags": []
   },
   "source": [
    "> Wow, this data has $1,458,644$ (rows) and $11$ (columns), in my opinion, this data is very good data to be used as a project because this data has a lot of rows, haha, but, if you apply this data to predicting taxi trip duration for the year ($2021$ - $2022$) in my opinion, this will not work, because you know for yourself that the development of taxis for ($2016$ - $2021$) is very large, not to mention that many large shuttle companies are replacing public taxis, such as Uber."
   ]
  },
  {
   "cell_type": "code",
   "execution_count": 4,
   "id": "17cb5acd",
   "metadata": {
    "execution": {
     "iopub.execute_input": "2021-12-31T20:00:22.663946Z",
     "iopub.status.busy": "2021-12-31T20:00:22.663185Z",
     "iopub.status.idle": "2021-12-31T20:00:23.308394Z",
     "shell.execute_reply": "2021-12-31T20:00:23.307653Z",
     "shell.execute_reply.started": "2021-12-30T18:46:07.800428Z"
    },
    "papermill": {
     "duration": 0.703052,
     "end_time": "2021-12-31T20:00:23.308518",
     "exception": false,
     "start_time": "2021-12-31T20:00:22.605466",
     "status": "completed"
    },
    "tags": []
   },
   "outputs": [
    {
     "name": "stdout",
     "output_type": "stream",
     "text": [
      "<class 'pandas.core.frame.DataFrame'>\n",
      "RangeIndex: 1458644 entries, 0 to 1458643\n",
      "Data columns (total 11 columns):\n",
      " #   Column              Non-Null Count    Dtype  \n",
      "---  ------              --------------    -----  \n",
      " 0   id                  1458644 non-null  object \n",
      " 1   vendor_id           1458644 non-null  int64  \n",
      " 2   pickup_datetime     1458644 non-null  object \n",
      " 3   dropoff_datetime    1458644 non-null  object \n",
      " 4   passenger_count     1458644 non-null  int64  \n",
      " 5   pickup_longitude    1458644 non-null  float64\n",
      " 6   pickup_latitude     1458644 non-null  float64\n",
      " 7   dropoff_longitude   1458644 non-null  float64\n",
      " 8   dropoff_latitude    1458644 non-null  float64\n",
      " 9   store_and_fwd_flag  1458644 non-null  object \n",
      " 10  trip_duration       1458644 non-null  int64  \n",
      "dtypes: float64(4), int64(3), object(4)\n",
      "memory usage: 122.4+ MB\n"
     ]
    }
   ],
   "source": [
    "taxi_data.info(verbose=True) # getting the information"
   ]
  },
  {
   "cell_type": "markdown",
   "id": "70956fbe",
   "metadata": {
    "papermill": {
     "duration": 0.05491,
     "end_time": "2021-12-31T20:00:23.419903",
     "exception": false,
     "start_time": "2021-12-31T20:00:23.364993",
     "status": "completed"
    },
    "tags": []
   },
   "source": [
    "> ok, there are $4$ data of type object, $3$ data of type **int64**, and the rest of data type **float64**, I don't know if there is any null value in this data, let's check, but... before that let's check the Categorical and Numceric uniqueness..."
   ]
  },
  {
   "cell_type": "markdown",
   "id": "e89478c4",
   "metadata": {
    "papermill": {
     "duration": 0.054685,
     "end_time": "2021-12-31T20:00:23.530038",
     "exception": false,
     "start_time": "2021-12-31T20:00:23.475353",
     "status": "completed"
    },
    "tags": []
   },
   "source": [
    "### **Uniqueness Categorical Variables**\n",
    "Let's have a look at categorical variables. How many unique values of these variables."
   ]
  },
  {
   "cell_type": "code",
   "execution_count": 5,
   "id": "954e72ae",
   "metadata": {
    "execution": {
     "iopub.execute_input": "2021-12-31T20:00:23.645001Z",
     "iopub.status.busy": "2021-12-31T20:00:23.643083Z",
     "iopub.status.idle": "2021-12-31T20:00:25.347026Z",
     "shell.execute_reply": "2021-12-31T20:00:25.347540Z",
     "shell.execute_reply.started": "2021-12-30T18:46:08.5749Z"
    },
    "papermill": {
     "duration": 1.762791,
     "end_time": "2021-12-31T20:00:25.347685",
     "exception": false,
     "start_time": "2021-12-31T20:00:23.584894",
     "status": "completed"
    },
    "tags": []
   },
   "outputs": [
    {
     "name": "stdout",
     "output_type": "stream",
     "text": [
      "id : 1458644 uniqueness vaiables(s)\n",
      "pickup_datetime : 1380222 uniqueness vaiables(s)\n",
      "dropoff_datetime : 1380377 uniqueness vaiables(s)\n",
      "store_and_fwd_flag : 2 uniqueness vaiables(s)\n"
     ]
    }
   ],
   "source": [
    "categorical = taxi_data.select_dtypes(exclude=[np.number]).columns\n",
    "for cat_col in categorical:\n",
    "    print(f\"{cat_col} : {taxi_data[cat_col].nunique()} uniqueness vaiables(s)\")"
   ]
  },
  {
   "cell_type": "markdown",
   "id": "779ba5e6",
   "metadata": {
    "papermill": {
     "duration": 0.055741,
     "end_time": "2021-12-31T20:00:25.459784",
     "exception": false,
     "start_time": "2021-12-31T20:00:25.404043",
     "status": "completed"
    },
    "tags": []
   },
   "source": [
    "> Great! let's check the Discrete and Continuous Variables..."
   ]
  },
  {
   "cell_type": "markdown",
   "id": "79c6b013",
   "metadata": {
    "papermill": {
     "duration": 0.055062,
     "end_time": "2021-12-31T20:00:25.570641",
     "exception": false,
     "start_time": "2021-12-31T20:00:25.515579",
     "status": "completed"
    },
    "tags": []
   },
   "source": [
    "### **Discrete and Continuous Variables**\n",
    "Let's have a look at Discrete and Continuous variables."
   ]
  },
  {
   "cell_type": "code",
   "execution_count": 6,
   "id": "6af22af1",
   "metadata": {
    "execution": {
     "iopub.execute_input": "2021-12-31T20:00:25.689982Z",
     "iopub.status.busy": "2021-12-31T20:00:25.689120Z",
     "iopub.status.idle": "2021-12-31T20:00:25.903261Z",
     "shell.execute_reply": "2021-12-31T20:00:25.903822Z",
     "shell.execute_reply.started": "2021-12-30T18:46:10.745791Z"
    },
    "papermill": {
     "duration": 0.277752,
     "end_time": "2021-12-31T20:00:25.903977",
     "exception": false,
     "start_time": "2021-12-31T20:00:25.626225",
     "status": "completed"
    },
    "tags": []
   },
   "outputs": [
    {
     "name": "stdout",
     "output_type": "stream",
     "text": [
      "vendor_id : 2 uniqueness variable(s)\n",
      "passenger_count : 10 uniqueness variable(s)\n",
      "pickup_longitude : 23047 uniqueness variable(s)\n",
      "pickup_latitude : 45245 uniqueness variable(s)\n",
      "dropoff_longitude : 33821 uniqueness variable(s)\n",
      "dropoff_latitude : 62519 uniqueness variable(s)\n",
      "trip_duration : 7417 uniqueness variable(s)\n"
     ]
    }
   ],
   "source": [
    "numeric = taxi_data.select_dtypes(include=[np.number]).columns\n",
    "for num_col in numeric:\n",
    "    print(f\"{num_col} : {taxi_data[num_col].nunique()} uniqueness variable(s)\")"
   ]
  },
  {
   "cell_type": "markdown",
   "id": "fb71c021",
   "metadata": {
    "papermill": {
     "duration": 0.05609,
     "end_time": "2021-12-31T20:00:26.016281",
     "exception": false,
     "start_time": "2021-12-31T20:00:25.960191",
     "status": "completed"
    },
    "tags": []
   },
   "source": [
    "> Okay! let's check if there any missing value..."
   ]
  },
  {
   "cell_type": "markdown",
   "id": "675f3e48",
   "metadata": {
    "papermill": {
     "duration": 0.055699,
     "end_time": "2021-12-31T20:00:26.128239",
     "exception": false,
     "start_time": "2021-12-31T20:00:26.072540",
     "status": "completed"
    },
    "tags": []
   },
   "source": [
    "### **How many missing data points do we have?**\n",
    "\n",
    "Let's see how many missing data we have in each column...."
   ]
  },
  {
   "cell_type": "code",
   "execution_count": 7,
   "id": "720508b8",
   "metadata": {
    "execution": {
     "iopub.execute_input": "2021-12-31T20:00:26.244248Z",
     "iopub.status.busy": "2021-12-31T20:00:26.243432Z",
     "iopub.status.idle": "2021-12-31T20:00:26.864599Z",
     "shell.execute_reply": "2021-12-31T20:00:26.865025Z",
     "shell.execute_reply.started": "2021-12-30T18:46:11.007244Z"
    },
    "papermill": {
     "duration": 0.681132,
     "end_time": "2021-12-31T20:00:26.865175",
     "exception": false,
     "start_time": "2021-12-31T20:00:26.184043",
     "status": "completed"
    },
    "tags": []
   },
   "outputs": [
    {
     "data": {
      "text/plain": [
       "id                    0\n",
       "vendor_id             0\n",
       "pickup_datetime       0\n",
       "dropoff_datetime      0\n",
       "passenger_count       0\n",
       "pickup_longitude      0\n",
       "pickup_latitude       0\n",
       "dropoff_longitude     0\n",
       "dropoff_latitude      0\n",
       "store_and_fwd_flag    0\n",
       "dtype: int64"
      ]
     },
     "execution_count": 7,
     "metadata": {},
     "output_type": "execute_result"
    }
   ],
   "source": [
    "# Get the number of missing data points per column\n",
    "missing_values_count = taxi_data.isnull().sum()\n",
    "# Look at the missing points in the first ten columns\n",
    "missing_values_count[:10]"
   ]
  },
  {
   "cell_type": "markdown",
   "id": "ca6314cc",
   "metadata": {
    "papermill": {
     "duration": 0.05644,
     "end_time": "2021-12-31T20:00:26.978585",
     "exception": false,
     "start_time": "2021-12-31T20:00:26.922145",
     "status": "completed"
    },
    "tags": []
   },
   "source": [
    "> Stranger in the nigghhtt..... God, I love that song, owh, look at that, looks like the data is not have any missing values! okay, let's go to the next steps! "
   ]
  },
  {
   "cell_type": "markdown",
   "id": "36f25089",
   "metadata": {
    "papermill": {
     "duration": 0.05599,
     "end_time": "2021-12-31T20:00:27.090950",
     "exception": false,
     "start_time": "2021-12-31T20:00:27.034960",
     "status": "completed"
    },
    "tags": []
   },
   "source": [
    "### **Let's do a simple analysis...**\n",
    "\n",
    "berfore that let's recap the data...\n",
    "\n",
    "### **Recap Data:**\n",
    "\n",
    "* Data has  1,458,644  (rows) and  11  (columns), in my opinion, this data is very good data to be used as a project because this data has a lot of rows, haha, but, if you apply this data to predicting taxi trip duration for the year ( 2021  -  2022 ) in my opinion, this will not work, because you know for yourself that the development of taxis for ( 2016  -  2021 ) is very large, not to mention that many large shuttle companies are replacing public taxis, such as Uber.\n",
    "* There are $4$ data of type object, $3$ data of type **int64**, and the rest of data type **float64**.\n",
    "* **Uniqueness Categorical Variables:**\n",
    "    * `id` : $1458644$ uniqueness vaiables(s)\n",
    "    * `pickup_datetime` : $1380222$ uniqueness vaiables(s)\n",
    "    * `dropoff_datetime` : $1380377$ uniqueness vaiables(s)\n",
    "    * `store_and_fwd_flag` : $2$ uniqueness vaiables(s)\n",
    "* **Discrete and Continuous Variables:**\n",
    "    * `vendor_id` : $2$ uniqueness variable(s)\n",
    "    * `passenger_count` : $10$ uniqueness variable(s)\n",
    "    * `pickup_longitude` : $23047$ uniqueness variable(s)\n",
    "    * `pickup_latitude` : $45245$ uniqueness variable(s)\n",
    "    * `dropoff_longitude` : $33821$ uniqueness variable(s)\n",
    "    * `dropoff_latitude` : $62519$ uniqueness variable(s)\n",
    "    * `trip_duration` : $7417$ uniqueness variable(s)\n",
    "* **Data is not have any missing values.**"
   ]
  },
  {
   "cell_type": "markdown",
   "id": "90791f86",
   "metadata": {
    "papermill": {
     "duration": 0.056605,
     "end_time": "2021-12-31T20:00:27.203733",
     "exception": false,
     "start_time": "2021-12-31T20:00:27.147128",
     "status": "completed"
    },
    "tags": []
   },
   "source": [
    "# **Data Analysis**\n",
    "\n",
    "Data Analysis is the process of systematically applying statistical and/or logical techniques to describe and illustrate, condense and recap, and evaluate data. Indeed, researchers generally analyze for patterns in observations through the entire data collection phase *(Savenye, Robinson, $2004$)*.\n",
    "analyze and investigate data sets and summarize their main characteristics, often employing data visualization methods.\n",
    "\n",
    "Or, the easier, you can say in Data Analysis we (Data Scientist or Data Analyst) what ever you want to call that, in this section, we're looking for the correlation and also the relationships between every data (features and labels) or the variables using and applying the statistical and visualization methods for looking some patterns."
   ]
  },
  {
   "cell_type": "code",
   "execution_count": 8,
   "id": "d8bb15d0",
   "metadata": {
    "_kg_hide-input": true,
    "execution": {
     "iopub.execute_input": "2021-12-31T20:00:27.324225Z",
     "iopub.status.busy": "2021-12-31T20:00:27.323451Z",
     "iopub.status.idle": "2021-12-31T20:00:28.277552Z",
     "shell.execute_reply": "2021-12-31T20:00:28.277971Z",
     "shell.execute_reply.started": "2021-12-30T18:46:11.757697Z"
    },
    "papermill": {
     "duration": 1.015518,
     "end_time": "2021-12-31T20:00:28.278141",
     "exception": false,
     "start_time": "2021-12-31T20:00:27.262623",
     "status": "completed"
    },
    "tags": []
   },
   "outputs": [
    {
     "data": {
      "image/png": "[encoded data removed]",
      "text/plain": [
       "<Figure size 1728x1296 with 2 Axes>"
      ]
     },
     "metadata": {},
     "output_type": "display_data"
    }
   ],
   "source": [
    "# let's make a correlation matrix for `cop_data`\n",
    "sns.set_style(\"whitegrid\") # set the seaborn style\n",
    "plt.figure(figsize=(24, 18)) # figure the size\n",
    "sns.heatmap(taxi_data.corr(), annot=True) # create a heatmap\n",
    "plt.title(\"Taxi Data Correlation\", weight=\"bold\", fontsize=30, fontname=\"monospace\", pad=30) # title\n",
    "plt.xticks(weight=\"bold\", fontsize=15) # x-ticks\n",
    "plt.yticks(weight=\"bold\", fontsize=15); # y-ticks"
   ]
  },
  {
   "cell_type": "code",
   "execution_count": 9,
   "id": "6828ee54",
   "metadata": {
    "execution": {
     "iopub.execute_input": "2021-12-31T20:00:28.401460Z",
     "iopub.status.busy": "2021-12-31T20:00:28.400680Z",
     "iopub.status.idle": "2021-12-31T20:00:28.689138Z",
     "shell.execute_reply": "2021-12-31T20:00:28.689590Z",
     "shell.execute_reply.started": "2021-12-30T18:46:12.870054Z"
    },
    "papermill": {
     "duration": 0.352018,
     "end_time": "2021-12-31T20:00:28.689740",
     "exception": false,
     "start_time": "2021-12-31T20:00:28.337722",
     "status": "completed"
    },
    "tags": []
   },
   "outputs": [
    {
     "data": {
      "text/html": [
       "<div>\n",
       "<style scoped>\n",
       "    .dataframe tbody tr th:only-of-type {\n",
       "        vertical-align: middle;\n",
       "    }\n",
       "\n",
       "    .dataframe tbody tr th {\n",
       "        vertical-align: top;\n",
       "    }\n",
       "\n",
       "    .dataframe thead th {\n",
       "        text-align: right;\n",
       "    }\n",
       "</style>\n",
       "<table border=\"1\" class=\"dataframe\">\n",
       "  <thead>\n",
       "    <tr style=\"text-align: right;\">\n",
       "      <th></th>\n",
       "      <th>trip_duration</th>\n",
       "      <th>pickup_longitude</th>\n",
       "      <th>vendor_id</th>\n",
       "      <th>dropoff_longitude</th>\n",
       "      <th>passenger_count</th>\n",
       "      <th>dropoff_latitude</th>\n",
       "      <th>pickup_latitude</th>\n",
       "    </tr>\n",
       "  </thead>\n",
       "  <tbody>\n",
       "    <tr>\n",
       "      <th>trip_duration</th>\n",
       "      <td>1.0</td>\n",
       "      <td>0.026542</td>\n",
       "      <td>0.020304</td>\n",
       "      <td>0.014678</td>\n",
       "      <td>0.008471</td>\n",
       "      <td>-0.020677</td>\n",
       "      <td>-0.029204</td>\n",
       "    </tr>\n",
       "  </tbody>\n",
       "</table>\n",
       "</div>"
      ],
      "text/plain": [
       "               trip_duration  pickup_longitude  vendor_id  dropoff_longitude  passenger_count  \\\n",
       "trip_duration            1.0          0.026542   0.020304           0.014678         0.008471   \n",
       "\n",
       "               dropoff_latitude  pickup_latitude  \n",
       "trip_duration         -0.020677        -0.029204  "
      ]
     },
     "execution_count": 9,
     "metadata": {},
     "output_type": "execute_result"
    }
   ],
   "source": [
    "# Let's see the correlation clearly\n",
    "(taxi_data.corr()[\"trip_duration\"] # transform it into data corr\n",
    "      .sort_values(ascending=False) # sort the values\n",
    "      .to_frame() # change it into data frame\n",
    "      .T) # transpose"
   ]
  },
  {
   "cell_type": "markdown",
   "id": "11006e26",
   "metadata": {
    "papermill": {
     "duration": 0.05931,
     "end_time": "2021-12-31T20:00:28.808927",
     "exception": false,
     "start_time": "2021-12-31T20:00:28.749617",
     "status": "completed"
    },
    "tags": []
   },
   "source": [
    "> Okay, if we look at the visualization and printing results above, we can see, `trip duration` has a pretty good correlation with `pickup_longtitude`, `vendor`, `dropoff_longtitude`, and also `passanger_count`. Okay... let's check the statistical summary... Note that this function can provide statistics for numerical features only."
   ]
  },
  {
   "cell_type": "code",
   "execution_count": 10,
   "id": "8174b63e",
   "metadata": {
    "execution": {
     "iopub.execute_input": "2021-12-31T20:00:28.938864Z",
     "iopub.status.busy": "2021-12-31T20:00:28.938027Z",
     "iopub.status.idle": "2021-12-31T20:00:29.298942Z",
     "shell.execute_reply": "2021-12-31T20:00:29.299389Z",
     "shell.execute_reply.started": "2021-12-30T18:46:13.220285Z"
    },
    "papermill": {
     "duration": 0.430902,
     "end_time": "2021-12-31T20:00:29.299551",
     "exception": false,
     "start_time": "2021-12-31T20:00:28.868649",
     "status": "completed"
    },
    "tags": []
   },
   "outputs": [
    {
     "data": {
      "text/html": [
       "<div>\n",
       "<style scoped>\n",
       "    .dataframe tbody tr th:only-of-type {\n",
       "        vertical-align: middle;\n",
       "    }\n",
       "\n",
       "    .dataframe tbody tr th {\n",
       "        vertical-align: top;\n",
       "    }\n",
       "\n",
       "    .dataframe thead th {\n",
       "        text-align: right;\n",
       "    }\n",
       "</style>\n",
       "<table border=\"1\" class=\"dataframe\">\n",
       "  <thead>\n",
       "    <tr style=\"text-align: right;\">\n",
       "      <th></th>\n",
       "      <th>vendor_id</th>\n",
       "      <th>passenger_count</th>\n",
       "      <th>pickup_longitude</th>\n",
       "      <th>pickup_latitude</th>\n",
       "      <th>dropoff_longitude</th>\n",
       "      <th>dropoff_latitude</th>\n",
       "      <th>trip_duration</th>\n",
       "    </tr>\n",
       "  </thead>\n",
       "  <tbody>\n",
       "    <tr>\n",
       "      <th>count</th>\n",
       "      <td>1458644</td>\n",
       "      <td>1458644</td>\n",
       "      <td>1458644</td>\n",
       "      <td>1458644</td>\n",
       "      <td>1458644</td>\n",
       "      <td>1458644</td>\n",
       "      <td>1458644</td>\n",
       "    </tr>\n",
       "    <tr>\n",
       "      <th>mean</th>\n",
       "      <td>1</td>\n",
       "      <td>1</td>\n",
       "      <td>-73</td>\n",
       "      <td>40</td>\n",
       "      <td>-73</td>\n",
       "      <td>40</td>\n",
       "      <td>959</td>\n",
       "    </tr>\n",
       "    <tr>\n",
       "      <th>std</th>\n",
       "      <td>0</td>\n",
       "      <td>1</td>\n",
       "      <td>0</td>\n",
       "      <td>0</td>\n",
       "      <td>0</td>\n",
       "      <td>0</td>\n",
       "      <td>5237</td>\n",
       "    </tr>\n",
       "    <tr>\n",
       "      <th>min</th>\n",
       "      <td>1</td>\n",
       "      <td>0</td>\n",
       "      <td>-121</td>\n",
       "      <td>34</td>\n",
       "      <td>-121</td>\n",
       "      <td>32</td>\n",
       "      <td>1</td>\n",
       "    </tr>\n",
       "    <tr>\n",
       "      <th>25%</th>\n",
       "      <td>1</td>\n",
       "      <td>1</td>\n",
       "      <td>-73</td>\n",
       "      <td>40</td>\n",
       "      <td>-73</td>\n",
       "      <td>40</td>\n",
       "      <td>397</td>\n",
       "    </tr>\n",
       "    <tr>\n",
       "      <th>50%</th>\n",
       "      <td>2</td>\n",
       "      <td>1</td>\n",
       "      <td>-73</td>\n",
       "      <td>40</td>\n",
       "      <td>-73</td>\n",
       "      <td>40</td>\n",
       "      <td>662</td>\n",
       "    </tr>\n",
       "    <tr>\n",
       "      <th>75%</th>\n",
       "      <td>2</td>\n",
       "      <td>2</td>\n",
       "      <td>-73</td>\n",
       "      <td>40</td>\n",
       "      <td>-73</td>\n",
       "      <td>40</td>\n",
       "      <td>1075</td>\n",
       "    </tr>\n",
       "    <tr>\n",
       "      <th>max</th>\n",
       "      <td>2</td>\n",
       "      <td>9</td>\n",
       "      <td>-61</td>\n",
       "      <td>51</td>\n",
       "      <td>-61</td>\n",
       "      <td>43</td>\n",
       "      <td>3526282</td>\n",
       "    </tr>\n",
       "  </tbody>\n",
       "</table>\n",
       "</div>"
      ],
      "text/plain": [
       "       vendor_id  passenger_count  pickup_longitude  pickup_latitude  dropoff_longitude  \\\n",
       "count    1458644          1458644           1458644          1458644            1458644   \n",
       "mean           1                1               -73               40                -73   \n",
       "std            0                1                 0                0                  0   \n",
       "min            1                0              -121               34               -121   \n",
       "25%            1                1               -73               40                -73   \n",
       "50%            2                1               -73               40                -73   \n",
       "75%            2                2               -73               40                -73   \n",
       "max            2                9               -61               51                -61   \n",
       "\n",
       "       dropoff_latitude  trip_duration  \n",
       "count           1458644        1458644  \n",
       "mean                 40            959  \n",
       "std                   0           5237  \n",
       "min                  32              1  \n",
       "25%                  40            397  \n",
       "50%                  40            662  \n",
       "75%                  40           1075  \n",
       "max                  43        3526282  "
      ]
     },
     "execution_count": 10,
     "metadata": {},
     "output_type": "execute_result"
    }
   ],
   "source": [
    "taxi_data.describe(include=[np.number]).astype(\"int\") # checking statistical summary"
   ]
  },
  {
   "cell_type": "markdown",
   "id": "52b7b54e",
   "metadata": {
    "papermill": {
     "duration": 0.059602,
     "end_time": "2021-12-31T20:00:29.419325",
     "exception": false,
     "start_time": "2021-12-31T20:00:29.359723",
     "status": "completed"
    },
    "tags": []
   },
   "source": [
    "#### **Some insights from the above summary:**\n",
    "\n",
    "* Vendor id has a minimum value of 1 and a maximum value of 2 which makes sense as we saw there are two vendor ids 1 and 2.\n",
    "* Passenger count has a minimum of 0 which means either it is an error entered or the drivers deliberately entered 0 to complete a target number of rides.\n",
    "* The minimum trip duration is also quite low. We will come back to this later during Univariate Analysis."
   ]
  },
  {
   "cell_type": "markdown",
   "id": "3ee3b303",
   "metadata": {
    "papermill": {
     "duration": 0.059515,
     "end_time": "2021-12-31T20:00:29.539499",
     "exception": false,
     "start_time": "2021-12-31T20:00:29.479984",
     "status": "completed"
    },
    "tags": []
   },
   "source": [
    "## **Univariate Analysis**\n",
    "\n",
    "Univariate analysis is perhaps the simplest form of statistical analysis. Like other forms of statistics, it can be inferential or descriptive. The key fact is that only one variable is involved. Univariate analysis can yield misleading results in cases in which multivariate analysis is more appropriate."
   ]
  },
  {
   "cell_type": "code",
   "execution_count": 11,
   "id": "8381f5a1",
   "metadata": {
    "execution": {
     "iopub.execute_input": "2021-12-31T20:00:29.665432Z",
     "iopub.status.busy": "2021-12-31T20:00:29.661031Z",
     "iopub.status.idle": "2021-12-31T20:00:29.718430Z",
     "shell.execute_reply": "2021-12-31T20:00:29.717999Z",
     "shell.execute_reply.started": "2021-12-30T18:46:13.675056Z"
    },
    "papermill": {
     "duration": 0.119736,
     "end_time": "2021-12-31T20:00:29.718544",
     "exception": false,
     "start_time": "2021-12-31T20:00:29.598808",
     "status": "completed"
    },
    "tags": []
   },
   "outputs": [],
   "source": [
    "# checking and visualizing the type of distribution of a feature column\n",
    "def univariate_analysis(data, color, title1, title2):\n",
    "    \n",
    "    \"\"\"\n",
    "    Showing visualization of univariate\n",
    "    analysis with displot and qqplot\n",
    "    visualization from seaborn and statsmodel\n",
    "    library.\n",
    "    \n",
    "    Parameters\n",
    "    ----------\n",
    "    data : DataFrame, array, or list of arrays, optional\n",
    "        Dataset for plotting. If ``x`` and ``y`` are absent, this is\n",
    "        interpreted as wide-form. Otherwise it is expected to be long-form. \n",
    "    title1: The title of the visualization, title1 for displot visualization\n",
    "        And title2 for quantile plot from statsmodel.\n",
    "    title2: The title of the visualization, title1 for displot visualization\n",
    "        And title2 for quantile plot from statsmodel.\n",
    "        \n",
    "    Returns\n",
    "    -------\n",
    "    fig : matplotlib figure\n",
    "        Returns the Figure object with the plot drawn onto it.\n",
    "    \"\"\"\n",
    "    \n",
    "    fig, (ax1, ax2) = plt.subplots( # subplots\n",
    "        ncols=2, # num of cols\n",
    "        nrows=1, # num of rows\n",
    "        figsize=(20, 6) # set the width and high\n",
    "    )\n",
    "\n",
    "    sns.distplot( # create a distplot visualization\n",
    "        data, # data\n",
    "        ax=ax1, # axes 1\n",
    "        kde=True, # kde\n",
    "        color=color # color\n",
    "    )\n",
    "    \n",
    "    ax1.set_title( # set the title 1\n",
    "        title1, \n",
    "        weight=\"bold\", # weight\n",
    "        fontname=\"monospace\", # font-name\n",
    "        fontsize=25, # font-size\n",
    "        pad=30 # padding\n",
    "    )\n",
    "    \n",
    "    qqplot( # qqplot (quantile plot)\n",
    "        data, # data\n",
    "        ax=ax2, # axes 2\n",
    "        line='s' # line \n",
    "    )\n",
    "    \n",
    "    ax2.set_title( # set the title 2\n",
    "        title2, \n",
    "        weight=\"bold\", # weight\n",
    "        fontname=\"monospace\", # font-name\n",
    "        fontsize=25, # font-size\n",
    "        pad=30 # padding\n",
    "    )\n",
    "    \n",
    "    return fig # returning the figure"
   ]
  },
  {
   "cell_type": "markdown",
   "id": "6eeeb97f",
   "metadata": {
    "papermill": {
     "duration": 0.059291,
     "end_time": "2021-12-31T20:00:29.837251",
     "exception": false,
     "start_time": "2021-12-31T20:00:29.777960",
     "status": "completed"
    },
    "tags": []
   },
   "source": [
    "Let's try to find the proportion that lies in between two standard deviation ($\\sigma$) from mean ($\\mu$) using ***Chebychev's Theorem***, and let's try to interprete..."
   ]
  },
  {
   "cell_type": "markdown",
   "id": "a9bcc6e8",
   "metadata": {
    "papermill": {
     "duration": 0.059537,
     "end_time": "2021-12-31T20:00:29.956176",
     "exception": false,
     "start_time": "2021-12-31T20:00:29.896639",
     "status": "completed"
    },
    "tags": []
   },
   "source": [
    "---"
   ]
  },
  {
   "cell_type": "markdown",
   "id": "c5227021",
   "metadata": {
    "papermill": {
     "duration": 0.059527,
     "end_time": "2021-12-31T20:00:30.075454",
     "exception": false,
     "start_time": "2021-12-31T20:00:30.015927",
     "status": "completed"
    },
    "tags": []
   },
   "source": [
    "<p style=\"font-name: monospace; line-height: 2; font-size: 25px; font-weight: bold; letter-spacing: 2px; text-align: center;\">Chebychev's Theorem</p>\n",
    "$$\n",
    "\\begin{aligned}\n",
    "1 - \\frac{1}{k^2}: k &= 2 -> 1 - \\frac{1}{2^2} = \\frac{3}{4} -> 75 \\\\\n",
    "                   k &= 3 -> 1 - \\frac{1}{3^2} = \\frac{8}{9} -> 88.9\n",
    "\\end{aligned}\n",
    "$$\n",
    "<br>\n",
    "<p style=\"font-name: monospace; line-height: 2; font-size: 20px; font-weight: bold; letter-spacing: 2px; text-align: center;\">How to find Standard Deviation ($\\sigma$)?</p>\n",
    "<p style=\"font-name: monospace; line-height: 2; font-size: 13px; font-weight: bold; letter-spacing: 2px; text-align: center;\">Here's the Formula:</p>\n",
    "$$\n",
    "\\begin{aligned}\n",
    "\\sigma &= \\sqrt{\\sigma^2} = \\sqrt{\\frac{\\sum{(x - \\mu)^2}}{N}} \\\\\n",
    "s &= \\sqrt{s^2} = \\sqrt{\\frac{\\sum{(x - \\bar{x})^2}}{n - 1}}\n",
    "\\end{aligned}\n",
    "$$\n",
    "<br>\n",
    "<p style=\"font-name: monospace; line-height: 2; font-size: 20px; font-weight: bold; letter-spacing: 2px; text-align: center;\">How to find Mean ($\\mu$)?</p>\n",
    "<p style=\"font-name: monospace; line-height: 2; font-size: 13px; font-weight: bold; letter-spacing: 2px; text-align: center;\">Here's the Formula:</p>\n",
    "$$\n",
    "\\begin{aligned}\n",
    "\\mu = \\frac{\\sum{x}}{N} \\\\\n",
    "\\bar{x} = \\frac{\\sum{x}}{n}\n",
    "\\end{aligned}\n",
    "$$"
   ]
  },
  {
   "cell_type": "markdown",
   "id": "244725e9",
   "metadata": {
    "papermill": {
     "duration": 0.059352,
     "end_time": "2021-12-31T20:00:30.194102",
     "exception": false,
     "start_time": "2021-12-31T20:00:30.134750",
     "status": "completed"
    },
    "tags": []
   },
   "source": [
    "---"
   ]
  },
  {
   "cell_type": "code",
   "execution_count": 12,
   "id": "95b3a21b",
   "metadata": {
    "_kg_hide-input": true,
    "execution": {
     "iopub.execute_input": "2021-12-31T20:00:30.317457Z",
     "iopub.status.busy": "2021-12-31T20:00:30.316651Z",
     "iopub.status.idle": "2021-12-31T20:00:39.243334Z",
     "shell.execute_reply": "2021-12-31T20:00:39.242881Z",
     "shell.execute_reply.started": "2021-12-30T18:46:13.74535Z"
    },
    "papermill": {
     "duration": 8.99007,
     "end_time": "2021-12-31T20:00:39.243462",
     "exception": false,
     "start_time": "2021-12-31T20:00:30.253392",
     "status": "completed"
    },
    "tags": []
   },
   "outputs": [
    {
     "data": {
      "image/png": "[encoded data removed]",
      "text/plain": [
       "<Figure size 1440x432 with 2 Axes>"
      ]
     },
     "metadata": {},
     "output_type": "display_data"
    }
   ],
   "source": [
    "# Dependent Variables\n",
    "univariate_analysis( # call the function\n",
    "    data=taxi_data[\"trip_duration\"], # put the data\n",
    "    color=\"red\", # pick the color\n",
    "    title1=\"Trip Duration Data Distribution\", # title1\n",
    "    title2=\"Quantile Plot\"); # title2"
   ]
  },
  {
   "cell_type": "markdown",
   "id": "4f310da4",
   "metadata": {
    "papermill": {
     "duration": 0.061524,
     "end_time": "2021-12-31T20:00:39.367375",
     "exception": false,
     "start_time": "2021-12-31T20:00:39.305851",
     "status": "completed"
    },
    "tags": []
   },
   "source": [
    "The histogram is really skewed as we can see. That's why we're using **Chebychev's Theorem**"
   ]
  },
  {
   "cell_type": "markdown",
   "id": "770cdbb8",
   "metadata": {
    "papermill": {
     "duration": 0.062019,
     "end_time": "2021-12-31T20:00:39.491449",
     "exception": false,
     "start_time": "2021-12-31T20:00:39.429430",
     "status": "completed"
    },
    "tags": []
   },
   "source": [
    "---"
   ]
  },
  {
   "cell_type": "markdown",
   "id": "8f0bbf01",
   "metadata": {
    "papermill": {
     "duration": 0.064059,
     "end_time": "2021-12-31T20:00:39.617458",
     "exception": false,
     "start_time": "2021-12-31T20:00:39.553399",
     "status": "completed"
    },
    "tags": []
   },
   "source": [
    "## **Trip Duration**\n",
    "\n",
    "Find the proportion that lies in between two standard deviation ($\\sigma$) from mean ($\\mu$), and let's try to interprete that. and In the Sales Data, the $\\mu = 959$ and the $\\sigma = 5237$, then without further ado let's calculate it.\n",
    "\n",
    "#### **Calculation:**\n",
    "\n",
    "* $959 - 2(5237) = -9515$\n",
    "* $959 + 2(5237) = 11434$\n",
    "\n",
    "#### ***Interpretation:***\n",
    "\n",
    "at least $75$% time trip duration in NYC takes about $3.5$ hours of travel."
   ]
  },
  {
   "cell_type": "markdown",
   "id": "81eaa083",
   "metadata": {
    "papermill": {
     "duration": 0.0627,
     "end_time": "2021-12-31T20:00:39.742968",
     "exception": false,
     "start_time": "2021-12-31T20:00:39.680268",
     "status": "completed"
    },
    "tags": []
   },
   "source": [
    "---"
   ]
  },
  {
   "cell_type": "code",
   "execution_count": 13,
   "id": "37d036e1",
   "metadata": {
    "_kg_hide-input": true,
    "execution": {
     "iopub.execute_input": "2021-12-31T20:00:39.889923Z",
     "iopub.status.busy": "2021-12-31T20:00:39.888981Z",
     "iopub.status.idle": "2021-12-31T20:00:48.954795Z",
     "shell.execute_reply": "2021-12-31T20:00:48.955255Z",
     "shell.execute_reply.started": "2021-12-30T18:46:23.576775Z"
    },
    "papermill": {
     "duration": 9.142641,
     "end_time": "2021-12-31T20:00:48.955402",
     "exception": false,
     "start_time": "2021-12-31T20:00:39.812761",
     "status": "completed"
    },
    "tags": []
   },
   "outputs": [
    {
     "data": {
      "image/png": "[encoded data removed]",
      "text/plain": [
       "<Figure size 1440x432 with 2 Axes>"
      ]
     },
     "metadata": {},
     "output_type": "display_data"
    }
   ],
   "source": [
    "# Passenger Count Data\n",
    "univariate_analysis( # call the function\n",
    "    data=taxi_data[\"passenger_count\"], # put the data\n",
    "    color=\"black\", # pick the color\n",
    "    title1=\"Passenger Count Data Distribution\", # title1\n",
    "    title2=\"Quantile Plot\"); # title2"
   ]
  },
  {
   "cell_type": "markdown",
   "id": "5ce1187a",
   "metadata": {
    "papermill": {
     "duration": 0.063331,
     "end_time": "2021-12-31T20:00:49.082558",
     "exception": false,
     "start_time": "2021-12-31T20:00:49.019227",
     "status": "completed"
    },
    "tags": []
   },
   "source": [
    "---"
   ]
  },
  {
   "cell_type": "markdown",
   "id": "87ec3cba",
   "metadata": {
    "papermill": {
     "duration": 0.063031,
     "end_time": "2021-12-31T20:00:49.208312",
     "exception": false,
     "start_time": "2021-12-31T20:00:49.145281",
     "status": "completed"
    },
    "tags": []
   },
   "source": [
    "## **Passenger Count**\n",
    "\n",
    "Find the proportion that lies in between two standard deviation ($\\sigma$) from mean ($\\mu$), and let's try to interprete that. and In the Sales Data, the $\\mu = 2$ and the $\\sigma = 1$ if we round it, then without further ado let's calculate it.\n",
    "\n",
    "#### **Calculation:**\n",
    "\n",
    "* $2 - 2(1) = 0$\n",
    "* $2 + 2(1) = 4$\n",
    "\n",
    "#### ***Interpretation:***\n",
    "\n",
    "At least approximately $75$% passenger count in NYC is around $0 - 4$ passengers count."
   ]
  },
  {
   "cell_type": "markdown",
   "id": "9c5709c1",
   "metadata": {
    "papermill": {
     "duration": 0.063434,
     "end_time": "2021-12-31T20:00:49.335343",
     "exception": false,
     "start_time": "2021-12-31T20:00:49.271909",
     "status": "completed"
    },
    "tags": []
   },
   "source": [
    "---"
   ]
  },
  {
   "cell_type": "code",
   "execution_count": 14,
   "id": "a875cbde",
   "metadata": {
    "execution": {
     "iopub.execute_input": "2021-12-31T20:00:49.466597Z",
     "iopub.status.busy": "2021-12-31T20:00:49.465734Z",
     "iopub.status.idle": "2021-12-31T20:00:50.215020Z",
     "shell.execute_reply": "2021-12-31T20:00:50.215569Z",
     "shell.execute_reply.started": "2021-12-30T18:46:34.020492Z"
    },
    "papermill": {
     "duration": 0.817464,
     "end_time": "2021-12-31T20:00:50.215760",
     "exception": false,
     "start_time": "2021-12-31T20:00:49.398296",
     "status": "completed"
    },
    "tags": []
   },
   "outputs": [
    {
     "data": {
      "text/html": [
       "<div>\n",
       "<style scoped>\n",
       "    .dataframe tbody tr th:only-of-type {\n",
       "        vertical-align: middle;\n",
       "    }\n",
       "\n",
       "    .dataframe tbody tr th {\n",
       "        vertical-align: top;\n",
       "    }\n",
       "\n",
       "    .dataframe thead th {\n",
       "        text-align: right;\n",
       "    }\n",
       "</style>\n",
       "<table border=\"1\" class=\"dataframe\">\n",
       "  <thead>\n",
       "    <tr style=\"text-align: right;\">\n",
       "      <th></th>\n",
       "      <th>0</th>\n",
       "    </tr>\n",
       "  </thead>\n",
       "  <tbody>\n",
       "    <tr>\n",
       "      <th>trip_duration</th>\n",
       "      <td>343.163944</td>\n",
       "    </tr>\n",
       "    <tr>\n",
       "      <th>pickup_latitude</th>\n",
       "      <td>5.489127</td>\n",
       "    </tr>\n",
       "    <tr>\n",
       "      <th>passenger_count</th>\n",
       "      <td>2.128094</td>\n",
       "    </tr>\n",
       "    <tr>\n",
       "      <th>vendor_id</th>\n",
       "      <td>-0.140144</td>\n",
       "    </tr>\n",
       "    <tr>\n",
       "      <th>dropoff_latitude</th>\n",
       "      <td>-20.671187</td>\n",
       "    </tr>\n",
       "  </tbody>\n",
       "</table>\n",
       "</div>"
      ],
      "text/plain": [
       "                           0\n",
       "trip_duration     343.163944\n",
       "pickup_latitude     5.489127\n",
       "passenger_count     2.128094\n",
       "vendor_id          -0.140144\n",
       "dropoff_latitude  -20.671187"
      ]
     },
     "execution_count": 14,
     "metadata": {},
     "output_type": "execute_result"
    }
   ],
   "source": [
    "# checking skewness value\n",
    "# if value lies between -0.5 to 0.5  then it is normal otherwise skewed\n",
    "skew_value = taxi_data.skew().sort_values(ascending=False).to_frame().head()\n",
    "skew_value"
   ]
  },
  {
   "cell_type": "markdown",
   "id": "5e16b328",
   "metadata": {
    "papermill": {
     "duration": 0.064114,
     "end_time": "2021-12-31T20:00:50.347550",
     "exception": false,
     "start_time": "2021-12-31T20:00:50.283436",
     "status": "completed"
    },
    "tags": []
   },
   "source": [
    "Okay, now let's move on to the Preprocessing Steps..."
   ]
  },
  {
   "cell_type": "markdown",
   "id": "1a1f2ad4",
   "metadata": {
    "papermill": {
     "duration": 0.062979,
     "end_time": "2021-12-31T20:00:50.474090",
     "exception": false,
     "start_time": "2021-12-31T20:00:50.411111",
     "status": "completed"
    },
    "tags": []
   },
   "source": [
    "<a id=\"9\"></a>\n",
    "# **Data Preprocessing**\n",
    "\n",
    "In terms of scaling values, neural networks tend to prefer normalization.\n",
    "\n",
    "If you're not sure on which to use, you could try both and see which performs better."
   ]
  },
  {
   "cell_type": "code",
   "execution_count": 15,
   "id": "7cf44383",
   "metadata": {
    "execution": {
     "iopub.execute_input": "2021-12-31T20:00:50.608900Z",
     "iopub.status.busy": "2021-12-31T20:00:50.608088Z",
     "iopub.status.idle": "2021-12-31T20:01:15.727056Z",
     "shell.execute_reply": "2021-12-31T20:01:15.727478Z",
     "shell.execute_reply.started": "2021-12-30T18:46:34.934985Z"
    },
    "papermill": {
     "duration": 25.189762,
     "end_time": "2021-12-31T20:01:15.727639",
     "exception": false,
     "start_time": "2021-12-31T20:00:50.537877",
     "status": "completed"
    },
    "tags": []
   },
   "outputs": [
    {
     "data": {
      "text/html": [
       "<div>\n",
       "<style scoped>\n",
       "    .dataframe tbody tr th:only-of-type {\n",
       "        vertical-align: middle;\n",
       "    }\n",
       "\n",
       "    .dataframe tbody tr th {\n",
       "        vertical-align: top;\n",
       "    }\n",
       "\n",
       "    .dataframe thead th {\n",
       "        text-align: right;\n",
       "    }\n",
       "</style>\n",
       "<table border=\"1\" class=\"dataframe\">\n",
       "  <thead>\n",
       "    <tr style=\"text-align: right;\">\n",
       "      <th></th>\n",
       "      <th>vendor_id</th>\n",
       "      <th>passenger_count</th>\n",
       "      <th>pickup_longitude</th>\n",
       "      <th>pickup_latitude</th>\n",
       "      <th>dropoff_longitude</th>\n",
       "      <th>dropoff_latitude</th>\n",
       "      <th>store_and_fwd_flag</th>\n",
       "      <th>trip_duration</th>\n",
       "      <th>p_year</th>\n",
       "      <th>p_month</th>\n",
       "      <th>p_day</th>\n",
       "      <th>p_hour</th>\n",
       "      <th>p_minute</th>\n",
       "      <th>p_second</th>\n",
       "      <th>d_year</th>\n",
       "      <th>d_month</th>\n",
       "      <th>d_day</th>\n",
       "      <th>d_hour</th>\n",
       "      <th>d_minute</th>\n",
       "      <th>d_second</th>\n",
       "    </tr>\n",
       "  </thead>\n",
       "  <tbody>\n",
       "    <tr>\n",
       "      <th>0</th>\n",
       "      <td>2</td>\n",
       "      <td>1</td>\n",
       "      <td>-73.982155</td>\n",
       "      <td>40.767937</td>\n",
       "      <td>-73.964630</td>\n",
       "      <td>40.765602</td>\n",
       "      <td>N</td>\n",
       "      <td>455</td>\n",
       "      <td>2016</td>\n",
       "      <td>3</td>\n",
       "      <td>14</td>\n",
       "      <td>17</td>\n",
       "      <td>24</td>\n",
       "      <td>55</td>\n",
       "      <td>2016</td>\n",
       "      <td>3</td>\n",
       "      <td>14</td>\n",
       "      <td>17</td>\n",
       "      <td>32</td>\n",
       "      <td>30</td>\n",
       "    </tr>\n",
       "    <tr>\n",
       "      <th>1</th>\n",
       "      <td>1</td>\n",
       "      <td>1</td>\n",
       "      <td>-73.980415</td>\n",
       "      <td>40.738564</td>\n",
       "      <td>-73.999481</td>\n",
       "      <td>40.731152</td>\n",
       "      <td>N</td>\n",
       "      <td>663</td>\n",
       "      <td>2016</td>\n",
       "      <td>6</td>\n",
       "      <td>12</td>\n",
       "      <td>0</td>\n",
       "      <td>43</td>\n",
       "      <td>35</td>\n",
       "      <td>2016</td>\n",
       "      <td>6</td>\n",
       "      <td>12</td>\n",
       "      <td>0</td>\n",
       "      <td>54</td>\n",
       "      <td>38</td>\n",
       "    </tr>\n",
       "  </tbody>\n",
       "</table>\n",
       "</div>"
      ],
      "text/plain": [
       "   vendor_id  passenger_count  pickup_longitude  pickup_latitude  dropoff_longitude  \\\n",
       "0          2                1        -73.982155        40.767937         -73.964630   \n",
       "1          1                1        -73.980415        40.738564         -73.999481   \n",
       "\n",
       "   dropoff_latitude store_and_fwd_flag  trip_duration  p_year  p_month  p_day  p_hour  p_minute  \\\n",
       "0         40.765602                  N            455    2016        3     14      17        24   \n",
       "1         40.731152                  N            663    2016        6     12       0        43   \n",
       "\n",
       "   p_second  d_year  d_month  d_day  d_hour  d_minute  d_second  \n",
       "0        55    2016        3     14      17        32        30  \n",
       "1        35    2016        6     12       0        54        38  "
      ]
     },
     "execution_count": 15,
     "metadata": {},
     "output_type": "execute_result"
    }
   ],
   "source": [
    "taxi_data[[\"p_ymd\", \"p_hms\"]] = taxi_data[\"pickup_datetime\"].str.split(\" \", expand=True) # pickup datetime\n",
    "taxi_data[[\"d_ymd\", \"d_hms\"]] = taxi_data[\"dropoff_datetime\"].str.split(\" \", expand=True) # dropoff datetime\n",
    "\n",
    "del taxi_data[\"pickup_datetime\"] # del pickup\n",
    "del taxi_data[\"dropoff_datetime\"] # del dropoff\n",
    "\n",
    "taxi_data[[\"p_year\", \"p_month\", \"p_day\"]] = taxi_data[\"p_ymd\"].str.split(\"-\", expand=True).astype(\"int\") # splitting pickup\n",
    "taxi_data[[\"p_hour\", \"p_minute\", \"p_second\"]] = taxi_data[\"p_hms\"].str.split(\":\", expand=True).astype(\"int\") # splitting pickup\n",
    "\n",
    "del taxi_data[\"p_ymd\"] # del pickup year month day\n",
    "del taxi_data[\"p_hms\"] # del pickup hour minute second\n",
    "\n",
    "taxi_data[[\"d_year\", \"d_month\", \"d_day\"]] = taxi_data[\"d_ymd\"].str.split(\"-\", expand=True).astype(\"int\") # splitting dropoff\n",
    "taxi_data[[\"d_hour\", \"d_minute\", \"d_second\"]] = taxi_data[\"d_hms\"].str.split(\":\", expand=True).astype(\"int\") # splitting dropoff\n",
    "\n",
    "del taxi_data[\"d_ymd\"] # del dropoff year month day\n",
    "del taxi_data[\"d_hms\"] # del dropoff hour minute second\n",
    "del taxi_data[\"id\"] # del taxi id\n",
    "\n",
    "taxi_data.head(2) # view"
   ]
  },
  {
   "cell_type": "markdown",
   "id": "3b2d7372",
   "metadata": {
    "papermill": {
     "duration": 0.063462,
     "end_time": "2021-12-31T20:01:15.858707",
     "exception": false,
     "start_time": "2021-12-31T20:01:15.795245",
     "status": "completed"
    },
    "tags": []
   },
   "source": [
    "We can clearly see an outlier. there is an entry which is significantly different from others. As there is a single row only, let us drop this row. \n",
    "\n",
    "* There are some trips with even $0$ passenger count.\n",
    "* There is only $1$ trip each for $7$ and $9$ passengers.\n",
    "\n",
    "Let us remove the rows which have $0$ or $7$ or $9$ passenger count."
   ]
  },
  {
   "cell_type": "code",
   "execution_count": 16,
   "id": "81d36677",
   "metadata": {
    "execution": {
     "iopub.execute_input": "2021-12-31T20:01:15.991836Z",
     "iopub.status.busy": "2021-12-31T20:01:15.990912Z",
     "iopub.status.idle": "2021-12-31T20:01:16.609204Z",
     "shell.execute_reply": "2021-12-31T20:01:16.610214Z",
     "shell.execute_reply.started": "2021-12-30T18:47:03.693391Z"
    },
    "papermill": {
     "duration": 0.687962,
     "end_time": "2021-12-31T20:01:16.610426",
     "exception": false,
     "start_time": "2021-12-31T20:01:15.922464",
     "status": "completed"
    },
    "tags": []
   },
   "outputs": [],
   "source": [
    "taxi_data.drop(taxi_data[taxi_data[\"trip_duration\"] == 1939736].index, inplace = True)\n",
    "taxi_data = taxi_data[taxi_data[\"passenger_count\"]!=0]\n",
    "taxi_data = taxi_data[taxi_data[\"passenger_count\"]<=6]"
   ]
  },
  {
   "cell_type": "markdown",
   "id": "2d2770ca",
   "metadata": {
    "papermill": {
     "duration": 0.101002,
     "end_time": "2021-12-31T20:01:16.817810",
     "exception": false,
     "start_time": "2021-12-31T20:01:16.716808",
     "status": "completed"
    },
    "tags": []
   },
   "source": [
    "okay, let's move on to the next steps..."
   ]
  },
  {
   "cell_type": "code",
   "execution_count": 17,
   "id": "92a6a9bb",
   "metadata": {
    "_kg_hide-output": true,
    "execution": {
     "iopub.execute_input": "2021-12-31T20:01:16.953672Z",
     "iopub.status.busy": "2021-12-31T20:01:16.952956Z",
     "iopub.status.idle": "2021-12-31T20:01:21.987075Z",
     "shell.execute_reply": "2021-12-31T20:01:21.986610Z",
     "shell.execute_reply.started": "2021-12-30T18:47:04.52354Z"
    },
    "papermill": {
     "duration": 5.105761,
     "end_time": "2021-12-31T20:01:21.987219",
     "exception": false,
     "start_time": "2021-12-31T20:01:16.881458",
     "status": "completed"
    },
    "tags": []
   },
   "outputs": [
    {
     "name": "stderr",
     "output_type": "stream",
     "text": [
      "2021-12-31 20:01:19.402132: I tensorflow/stream_executor/cuda/cuda_gpu_executor.cc:937] successful NUMA node read from SysFS had negative value (-1), but there must be at least one NUMA node, so returning NUMA node zero\n",
      "2021-12-31 20:01:19.499574: I tensorflow/stream_executor/cuda/cuda_gpu_executor.cc:937] successful NUMA node read from SysFS had negative value (-1), but there must be at least one NUMA node, so returning NUMA node zero\n",
      "2021-12-31 20:01:19.500252: I tensorflow/stream_executor/cuda/cuda_gpu_executor.cc:937] successful NUMA node read from SysFS had negative value (-1), but there must be at least one NUMA node, so returning NUMA node zero\n",
      "2021-12-31 20:01:19.502473: I tensorflow/core/platform/cpu_feature_guard.cc:142] This TensorFlow binary is optimized with oneAPI Deep Neural Network Library (oneDNN) to use the following CPU instructions in performance-critical operations:  AVX2 AVX512F FMA\n",
      "To enable them in other operations, rebuild TensorFlow with the appropriate compiler flags.\n",
      "2021-12-31 20:01:19.503504: I tensorflow/stream_executor/cuda/cuda_gpu_executor.cc:937] successful NUMA node read from SysFS had negative value (-1), but there must be at least one NUMA node, so returning NUMA node zero\n",
      "2021-12-31 20:01:19.504144: I tensorflow/stream_executor/cuda/cuda_gpu_executor.cc:937] successful NUMA node read from SysFS had negative value (-1), but there must be at least one NUMA node, so returning NUMA node zero\n",
      "2021-12-31 20:01:19.504759: I tensorflow/stream_executor/cuda/cuda_gpu_executor.cc:937] successful NUMA node read from SysFS had negative value (-1), but there must be at least one NUMA node, so returning NUMA node zero\n",
      "2021-12-31 20:01:21.494923: I tensorflow/stream_executor/cuda/cuda_gpu_executor.cc:937] successful NUMA node read from SysFS had negative value (-1), but there must be at least one NUMA node, so returning NUMA node zero\n",
      "2021-12-31 20:01:21.495753: I tensorflow/stream_executor/cuda/cuda_gpu_executor.cc:937] successful NUMA node read from SysFS had negative value (-1), but there must be at least one NUMA node, so returning NUMA node zero\n",
      "2021-12-31 20:01:21.496407: I tensorflow/stream_executor/cuda/cuda_gpu_executor.cc:937] successful NUMA node read from SysFS had negative value (-1), but there must be at least one NUMA node, so returning NUMA node zero\n",
      "2021-12-31 20:01:21.496962: I tensorflow/core/common_runtime/gpu/gpu_device.cc:1510] Created device /job:localhost/replica:0/task:0/device:GPU:0 with 15403 MB memory:  -> device: 0, name: Tesla P100-PCIE-16GB, pci bus id: 0000:00:04.0, compute capability: 6.0\n"
     ]
    }
   ],
   "source": [
    "from sklearn.compose import make_column_transformer\n",
    "from sklearn.preprocessing import MinMaxScaler, OneHotEncoder\n",
    "from sklearn.model_selection import train_test_split\n",
    "\n",
    "def preprocessing_data(data):\n",
    "    \"\"\"Returns Data that has been preprocessed\"\"\"\n",
    "    # Prepare\n",
    "    categorical_col = [\"store_and_fwd_flag\"]\n",
    "    numerical_col = ['vendor_id', 'passenger_count', 'pickup_longitude', \n",
    "                     'pickup_latitude', 'dropoff_longitude', 'dropoff_latitude',  \n",
    "                     'p_year', 'p_month', 'p_day', 'p_hour', 'p_minute', 'p_second', \n",
    "                     'd_year', 'd_month', 'd_day', 'd_hour', 'd_minute', 'd_second']\n",
    "    \n",
    "    # Create a columns transformer\n",
    "    column_transformer = make_column_transformer(\n",
    "        # Create a columns transformer between 0 and 1\n",
    "        (MinMaxScaler(), numerical_col),\n",
    "        # Encoder all values in this columns between 0 and 1\n",
    "        (OneHotEncoder(handle_unknown=\"ignore\"), categorical_col)\n",
    "    )\n",
    "    \n",
    "    # Create X & y (features and label)\n",
    "    X = data.drop(columns=[\"trip_duration\"])\n",
    "    y = data[\"trip_duration\"]\n",
    "    \n",
    "    # Build our train and test sets\n",
    "    X_train, X_test, y_train, y_test = train_test_split(\n",
    "        X, y, test_size=0.2, random_state=42\n",
    "    )\n",
    "    \n",
    "    # Fit the columns transformer to our training data\n",
    "    column_transformer.fit(X_train)\n",
    "    \n",
    "    # Transform training and test data with normalization (MinMaxScaler) and encoder (OneHotEncoder, LabelEncoder)\n",
    "    X_train_normal = column_transformer.transform(X_train)\n",
    "    X_test_normal = column_transformer.transform(X_test)\n",
    "    \n",
    "    # X_train and X_test (features)\n",
    "    X_train, X_test = tf.constant(X_train_normal, dtype=tf.float32), tf.constant(X_test_normal, dtype=tf.float32)\n",
    "    \n",
    "    # y_train and y_test (label)\n",
    "    y_train, y_test = tf.constant(y_train, dtype=tf.float32), tf.constant(y_test, dtype=tf.float32)\n",
    "    \n",
    "    return X_train, X_test, y_train, y_test\n",
    "\n",
    "# Call the function\n",
    "X_train, X_test, y_train, y_test = preprocessing_data(taxi_data)"
   ]
  },
  {
   "cell_type": "code",
   "execution_count": 18,
   "id": "78661443",
   "metadata": {
    "execution": {
     "iopub.execute_input": "2021-12-31T20:01:22.123652Z",
     "iopub.status.busy": "2021-12-31T20:01:22.122878Z",
     "iopub.status.idle": "2021-12-31T20:01:22.177816Z",
     "shell.execute_reply": "2021-12-31T20:01:22.178170Z",
     "shell.execute_reply.started": "2021-12-30T18:47:08.316577Z"
    },
    "papermill": {
     "duration": 0.125401,
     "end_time": "2021-12-31T20:01:22.178345",
     "exception": false,
     "start_time": "2021-12-31T20:01:22.052944",
     "status": "completed"
    },
    "tags": []
   },
   "outputs": [
    {
     "data": {
      "text/plain": [
       "(TensorShape([1166862, 20]), TensorShape([291716, 20]), 2, 2)"
      ]
     },
     "execution_count": 18,
     "metadata": {},
     "output_type": "execute_result"
    }
   ],
   "source": [
    "# Checking the shape and dimension of rows and columns (features)\n",
    "X_train.shape, X_test.shape, X_train.ndim, X_test.ndim"
   ]
  },
  {
   "cell_type": "code",
   "execution_count": 19,
   "id": "ba60beed",
   "metadata": {
    "execution": {
     "iopub.execute_input": "2021-12-31T20:01:22.311735Z",
     "iopub.status.busy": "2021-12-31T20:01:22.310979Z",
     "iopub.status.idle": "2021-12-31T20:01:22.364087Z",
     "shell.execute_reply": "2021-12-31T20:01:22.363662Z",
     "shell.execute_reply.started": "2021-12-30T18:47:08.38441Z"
    },
    "papermill": {
     "duration": 0.121136,
     "end_time": "2021-12-31T20:01:22.364191",
     "exception": false,
     "start_time": "2021-12-31T20:01:22.243055",
     "status": "completed"
    },
    "tags": []
   },
   "outputs": [
    {
     "data": {
      "text/plain": [
       "(TensorShape([1166862]), TensorShape([291716]), 1, 1)"
      ]
     },
     "execution_count": 19,
     "metadata": {},
     "output_type": "execute_result"
    }
   ],
   "source": [
    "# Checking the shape and dimension of rows and columns (label)\n",
    "y_train.shape, y_test.shape, y_train.ndim, y_test.ndim"
   ]
  },
  {
   "cell_type": "code",
   "execution_count": 20,
   "id": "4f0631c2",
   "metadata": {
    "execution": {
     "iopub.execute_input": "2021-12-31T20:01:22.497077Z",
     "iopub.status.busy": "2021-12-31T20:01:22.496222Z",
     "iopub.status.idle": "2021-12-31T20:01:22.550176Z",
     "shell.execute_reply": "2021-12-31T20:01:22.549755Z",
     "shell.execute_reply.started": "2021-12-30T18:47:08.452951Z"
    },
    "papermill": {
     "duration": 0.121316,
     "end_time": "2021-12-31T20:01:22.550313",
     "exception": false,
     "start_time": "2021-12-31T20:01:22.428997",
     "status": "completed"
    },
    "tags": []
   },
   "outputs": [
    {
     "data": {
      "text/plain": [
       "(tf.float32, tf.float32, tf.float32, tf.float32)"
      ]
     },
     "execution_count": 20,
     "metadata": {},
     "output_type": "execute_result"
    }
   ],
   "source": [
    "# Checking the type (features and label)\n",
    "X_train.dtype, X_test.dtype, y_train.dtype, y_test.dtype"
   ]
  },
  {
   "cell_type": "code",
   "execution_count": 21,
   "id": "8c110042",
   "metadata": {
    "execution": {
     "iopub.execute_input": "2021-12-31T20:01:22.685090Z",
     "iopub.status.busy": "2021-12-31T20:01:22.684343Z",
     "iopub.status.idle": "2021-12-31T20:01:22.738458Z",
     "shell.execute_reply": "2021-12-31T20:01:22.738025Z",
     "shell.execute_reply.started": "2021-12-30T18:47:08.523363Z"
    },
    "papermill": {
     "duration": 0.122447,
     "end_time": "2021-12-31T20:01:22.738573",
     "exception": false,
     "start_time": "2021-12-31T20:01:22.616126",
     "status": "completed"
    },
    "tags": []
   },
   "outputs": [
    {
     "data": {
      "text/plain": [
       "(1166862, 291716, 1166862, 291716)"
      ]
     },
     "execution_count": 21,
     "metadata": {},
     "output_type": "execute_result"
    }
   ],
   "source": [
    "# Checking the len (feature and label)\n",
    "len(X_train), len(X_test), len(y_train), len(y_test)"
   ]
  },
  {
   "cell_type": "markdown",
   "id": "f3f65974",
   "metadata": {
    "papermill": {
     "duration": 0.065222,
     "end_time": "2021-12-31T20:01:22.869101",
     "exception": false,
     "start_time": "2021-12-31T20:01:22.803879",
     "status": "completed"
    },
    "tags": []
   },
   "source": [
    "\n",
    "\n",
    "\n",
    "\n",
    "1. **Creating a model** - define the input and output layers, as well as hidden layers of a deep learning model.\n",
    "2. **Compile our model** - define the loss function (in others words, the function which tells our model how wrong it is) and the optimizer (tells our model how to improve the patterns its learning) and evalution metrics (what we can use to interpret the performance of our model).\n",
    "3. **Fitting a model** - letting the model try to find patterns betwwen $X$ & $y$ (features and labels).\n",
    "\n"
   ]
  },
  {
   "cell_type": "markdown",
   "id": "f5c3dd34",
   "metadata": {
    "papermill": {
     "duration": 0.065317,
     "end_time": "2021-12-31T20:01:22.999700",
     "exception": false,
     "start_time": "2021-12-31T20:01:22.934383",
     "status": "completed"
    },
    "tags": []
   },
   "source": [
    "#### **To Check GPU Availability in Tensorflow**"
   ]
  },
  {
   "cell_type": "code",
   "execution_count": 22,
   "id": "cc2437a3",
   "metadata": {
    "_kg_hide-input": true,
    "_kg_hide-output": true,
    "execution": {
     "iopub.execute_input": "2021-12-31T20:01:23.144811Z",
     "iopub.status.busy": "2021-12-31T20:01:23.143900Z",
     "iopub.status.idle": "2021-12-31T20:01:23.203670Z",
     "shell.execute_reply": "2021-12-31T20:01:23.203176Z",
     "shell.execute_reply.started": "2021-12-30T18:47:08.592975Z"
    },
    "papermill": {
     "duration": 0.138732,
     "end_time": "2021-12-31T20:01:23.203782",
     "exception": false,
     "start_time": "2021-12-31T20:01:23.065050",
     "status": "completed"
    },
    "tags": []
   },
   "outputs": [
    {
     "name": "stdout",
     "output_type": "stream",
     "text": [
      "Name: /physical_device:GPU:0   Type: GPU\n"
     ]
    }
   ],
   "source": [
    "gpus = tf.config.experimental.list_physical_devices('GPU')\n",
    "for gpu in gpus:\n",
    "    print(\"Name:\", gpu.name, \"  Type:\", gpu.device_type)"
   ]
  },
  {
   "cell_type": "markdown",
   "id": "dc93860f",
   "metadata": {
    "papermill": {
     "duration": 0.078489,
     "end_time": "2021-12-31T20:01:23.357000",
     "exception": false,
     "start_time": "2021-12-31T20:01:23.278511",
     "status": "completed"
    },
    "tags": []
   },
   "source": [
    "#### **Listing Devices including GPU's with Tensorflow**"
   ]
  },
  {
   "cell_type": "code",
   "execution_count": 23,
   "id": "e9a916f6",
   "metadata": {
    "_kg_hide-input": true,
    "_kg_hide-output": true,
    "execution": {
     "iopub.execute_input": "2021-12-31T20:01:23.501757Z",
     "iopub.status.busy": "2021-12-31T20:01:23.500998Z",
     "iopub.status.idle": "2021-12-31T20:01:23.564410Z",
     "shell.execute_reply": "2021-12-31T20:01:23.563931Z",
     "shell.execute_reply.started": "2021-12-30T18:47:08.659253Z"
    },
    "papermill": {
     "duration": 0.132826,
     "end_time": "2021-12-31T20:01:23.564522",
     "exception": false,
     "start_time": "2021-12-31T20:01:23.431696",
     "status": "completed"
    },
    "tags": []
   },
   "outputs": [
    {
     "name": "stderr",
     "output_type": "stream",
     "text": [
      "2021-12-31 20:01:23.550857: I tensorflow/stream_executor/cuda/cuda_gpu_executor.cc:937] successful NUMA node read from SysFS had negative value (-1), but there must be at least one NUMA node, so returning NUMA node zero\n"
     ]
    },
    {
     "data": {
      "text/plain": [
       "[name: \"/device:CPU:0\"\n",
       " device_type: \"CPU\"\n",
       " memory_limit: 268435456\n",
       " locality {\n",
       " }\n",
       " incarnation: 14350345816476997590,\n",
       " name: \"/device:GPU:0\"\n",
       " device_type: \"GPU\"\n",
       " memory_limit: 16152002560\n",
       " locality {\n",
       "   bus_id: 1\n",
       "   links {\n",
       "   }\n",
       " }\n",
       " incarnation: 1277817022416646087\n",
       " physical_device_desc: \"device: 0, name: Tesla P100-PCIE-16GB, pci bus id: 0000:00:04.0, compute capability: 6.0\"]"
      ]
     },
     "execution_count": 23,
     "metadata": {},
     "output_type": "execute_result"
    },
    {
     "name": "stderr",
     "output_type": "stream",
     "text": [
      "2021-12-31 20:01:23.551448: I tensorflow/stream_executor/cuda/cuda_gpu_executor.cc:937] successful NUMA node read from SysFS had negative value (-1), but there must be at least one NUMA node, so returning NUMA node zero\n",
      "2021-12-31 20:01:23.551870: I tensorflow/stream_executor/cuda/cuda_gpu_executor.cc:937] successful NUMA node read from SysFS had negative value (-1), but there must be at least one NUMA node, so returning NUMA node zero\n",
      "2021-12-31 20:01:23.552316: I tensorflow/stream_executor/cuda/cuda_gpu_executor.cc:937] successful NUMA node read from SysFS had negative value (-1), but there must be at least one NUMA node, so returning NUMA node zero\n",
      "2021-12-31 20:01:23.552680: I tensorflow/stream_executor/cuda/cuda_gpu_executor.cc:937] successful NUMA node read from SysFS had negative value (-1), but there must be at least one NUMA node, so returning NUMA node zero\n",
      "2021-12-31 20:01:23.552965: I tensorflow/core/common_runtime/gpu/gpu_device.cc:1510] Created device /device:GPU:0 with 15403 MB memory:  -> device: 0, name: Tesla P100-PCIE-16GB, pci bus id: 0000:00:04.0, compute capability: 6.0\n"
     ]
    }
   ],
   "source": [
    "from tensorflow.python.client import device_lib\n",
    "\n",
    "device_lib.list_local_devices()"
   ]
  },
  {
   "cell_type": "markdown",
   "id": "687e6d83",
   "metadata": {
    "papermill": {
     "duration": 0.066335,
     "end_time": "2021-12-31T20:01:23.697378",
     "exception": false,
     "start_time": "2021-12-31T20:01:23.631043",
     "status": "completed"
    },
    "tags": []
   },
   "source": [
    "#### **To Check GPU in Tensorflow**"
   ]
  },
  {
   "cell_type": "code",
   "execution_count": 24,
   "id": "a42cee76",
   "metadata": {
    "_kg_hide-input": true,
    "_kg_hide-output": true,
    "execution": {
     "iopub.execute_input": "2021-12-31T20:01:23.834892Z",
     "iopub.status.busy": "2021-12-31T20:01:23.834093Z",
     "iopub.status.idle": "2021-12-31T20:01:23.893488Z",
     "shell.execute_reply": "2021-12-31T20:01:23.893887Z",
     "shell.execute_reply.started": "2021-12-30T18:47:08.731505Z"
    },
    "papermill": {
     "duration": 0.130209,
     "end_time": "2021-12-31T20:01:23.894012",
     "exception": false,
     "start_time": "2021-12-31T20:01:23.763803",
     "status": "completed"
    },
    "tags": []
   },
   "outputs": [
    {
     "name": "stderr",
     "output_type": "stream",
     "text": [
      "2021-12-31 20:01:23.884022: I tensorflow/stream_executor/cuda/cuda_gpu_executor.cc:937] successful NUMA node read from SysFS had negative value (-1), but there must be at least one NUMA node, so returning NUMA node zero\n"
     ]
    },
    {
     "data": {
      "text/plain": [
       "True"
      ]
     },
     "execution_count": 24,
     "metadata": {},
     "output_type": "execute_result"
    },
    {
     "name": "stderr",
     "output_type": "stream",
     "text": [
      "2021-12-31 20:01:23.884592: I tensorflow/stream_executor/cuda/cuda_gpu_executor.cc:937] successful NUMA node read from SysFS had negative value (-1), but there must be at least one NUMA node, so returning NUMA node zero\n",
      "2021-12-31 20:01:23.884935: I tensorflow/stream_executor/cuda/cuda_gpu_executor.cc:937] successful NUMA node read from SysFS had negative value (-1), but there must be at least one NUMA node, so returning NUMA node zero\n",
      "2021-12-31 20:01:23.885371: I tensorflow/stream_executor/cuda/cuda_gpu_executor.cc:937] successful NUMA node read from SysFS had negative value (-1), but there must be at least one NUMA node, so returning NUMA node zero\n",
      "2021-12-31 20:01:23.885709: I tensorflow/stream_executor/cuda/cuda_gpu_executor.cc:937] successful NUMA node read from SysFS had negative value (-1), but there must be at least one NUMA node, so returning NUMA node zero\n",
      "2021-12-31 20:01:23.885985: I tensorflow/core/common_runtime/gpu/gpu_device.cc:1510] Created device /device:GPU:0 with 15403 MB memory:  -> device: 0, name: Tesla P100-PCIE-16GB, pci bus id: 0000:00:04.0, compute capability: 6.0\n"
     ]
    }
   ],
   "source": [
    "tf.test.is_gpu_available()"
   ]
  },
  {
   "cell_type": "markdown",
   "id": "dc451cd0",
   "metadata": {
    "papermill": {
     "duration": 0.067751,
     "end_time": "2021-12-31T20:01:24.028829",
     "exception": false,
     "start_time": "2021-12-31T20:01:23.961078",
     "status": "completed"
    },
    "tags": []
   },
   "source": [
    "Let's make a simple model... with multi perceptron...\n",
    "\n",
    "<p style=\"font-name: monospace; line-height: 2; font-size: 20px; font-weight: bold; letter-spacing: 2px; text-align: center;\">A Hidden Layer</p>\n",
    "<br>\n",
    "$$\n",
    "\\begin{aligned}\n",
    "z_i = W_{o,i} + \\sum_{j=1}^{m} x_j W_{i,j}  \n",
    "\\end{aligned}\n",
    "$$\n",
    "<br>\n",
    "<p style=\"font-name: monospace; line-height: 2; font-size: 20px; font-weight: bold; letter-spacing: 2px; text-align: center;\">Activation Functions</p>\n",
    "<br>\n",
    "$$\n",
    "\\begin{aligned}\n",
    "g(z) =  max(0, z)\n",
    "\\end{aligned}\n",
    "$$\n",
    "<br>\n",
    "<p style=\"font-name: monospace; line-height: 2; font-size: 20px; font-weight: bold; letter-spacing: 2px; text-align: center;\">Output Layer</p>\n",
    "<br>\n",
    "$$\n",
    "\\begin{aligned}\n",
    "\\hat{y} = g(W_{o,i} + \\sum_{j=1}^{d_1} g(z) W_{j,i})\n",
    "\\end{aligned}\n",
    "$$\n",
    "<br>\n",
    "<p style=\"font-name: monospace; line-height: 2; font-size: 20px; font-weight: bold; letter-spacing: 2px; text-align: center;\">Mean Absolute Error Loss</p>\n",
    "<br>\n",
    "$$\n",
    "\\begin{aligned}\n",
    "MAE = \\frac{1}{n} \\sum_{j=1}^{n} |y_j - \\hat{y}_j| \n",
    "\\end{aligned}\n",
    "$$"
   ]
  },
  {
   "cell_type": "code",
   "execution_count": 25,
   "id": "10b211fb",
   "metadata": {
    "execution": {
     "iopub.execute_input": "2021-12-31T20:01:24.173971Z",
     "iopub.status.busy": "2021-12-31T20:01:24.173183Z",
     "iopub.status.idle": "2021-12-31T20:16:46.738308Z",
     "shell.execute_reply": "2021-12-31T20:16:46.738923Z",
     "shell.execute_reply.started": "2021-12-30T18:47:08.802812Z"
    },
    "papermill": {
     "duration": 922.640909,
     "end_time": "2021-12-31T20:16:46.739152",
     "exception": false,
     "start_time": "2021-12-31T20:01:24.098243",
     "status": "completed"
    },
    "tags": []
   },
   "outputs": [
    {
     "name": "stderr",
     "output_type": "stream",
     "text": [
      "2021-12-31 20:01:24.421081: I tensorflow/compiler/mlir/mlir_graph_optimization_pass.cc:185] None of the MLIR Optimization Passes are enabled (registered 2)\n"
     ]
    },
    {
     "name": "stdout",
     "output_type": "stream",
     "text": [
      "Epoch 1/10\n",
      "36465/36465 [==============================] - 88s 2ms/step - loss: 386.3604 - mae: 386.3604 - val_loss: 206.0208 - val_mae: 206.0208\n",
      "Epoch 2/10\n",
      "36465/36465 [==============================] - 88s 2ms/step - loss: 188.4452 - mae: 188.4452 - val_loss: 179.5184 - val_mae: 179.5184\n",
      "Epoch 3/10\n",
      "36465/36465 [==============================] - 88s 2ms/step - loss: 174.6924 - mae: 174.6924 - val_loss: 172.9413 - val_mae: 172.9413\n",
      "Epoch 4/10\n",
      "36465/36465 [==============================] - 88s 2ms/step - loss: 169.7626 - mae: 169.7626 - val_loss: 168.2242 - val_mae: 168.2242\n",
      "Epoch 5/10\n",
      "36465/36465 [==============================] - 100s 3ms/step - loss: 167.0418 - mae: 167.0418 - val_loss: 165.1035 - val_mae: 165.1035\n",
      "Epoch 6/10\n",
      "36465/36465 [==============================] - 101s 3ms/step - loss: 165.2581 - mae: 165.2581 - val_loss: 161.7197 - val_mae: 161.7197\n",
      "Epoch 7/10\n",
      "36465/36465 [==============================] - 90s 2ms/step - loss: 163.9885 - mae: 163.9885 - val_loss: 161.8896 - val_mae: 161.8896\n",
      "Epoch 8/10\n",
      "36465/36465 [==============================] - 92s 3ms/step - loss: 163.0379 - mae: 163.0379 - val_loss: 161.9082 - val_mae: 161.9082\n",
      "Epoch 9/10\n",
      "36465/36465 [==============================] - 88s 2ms/step - loss: 162.2449 - mae: 162.2449 - val_loss: 159.6528 - val_mae: 159.6528\n",
      "Epoch 10/10\n",
      "36465/36465 [==============================] - 91s 2ms/step - loss: 161.6169 - mae: 161.6169 - val_loss: 159.7864 - val_mae: 159.7864\n"
     ]
    }
   ],
   "source": [
    "# Set random seed\n",
    "set_seed()\n",
    "\n",
    "# Create the model\n",
    "small_model = tf.keras.Sequential([\n",
    "    layers.Dense(100, activation=\"relu\", input_shape=[20], name=\"input_1\"),\n",
    "    layers.Dense(10, activation=\"relu\", name=\"input_2\"),\n",
    "    layers.Dense(1, name=\"output_layer\")\n",
    "], name=\"small_model\")\n",
    "\n",
    "# Compile the model\n",
    "small_model.compile(\n",
    "    loss=\"mae\",\n",
    "    optimizer=tf.keras.optimizers.Adam(),\n",
    "    metrics=[\"mae\"]\n",
    ")\n",
    "\n",
    "# Fit the model\n",
    "small_model_history = small_model.fit(\n",
    "    X_train, y_train, \n",
    "    validation_data=(X_test, y_test),\n",
    "    epochs=10\n",
    ")"
   ]
  },
  {
   "cell_type": "markdown",
   "id": "ae8d510f",
   "metadata": {
    "papermill": {
     "duration": 4.37552,
     "end_time": "2021-12-31T20:16:55.438390",
     "exception": false,
     "start_time": "2021-12-31T20:16:51.062870",
     "status": "completed"
    },
    "tags": []
   },
   "source": [
    "Look at that! we're just making a simple model, and it works well! Let's see the layer and its architecture..."
   ]
  },
  {
   "cell_type": "code",
   "execution_count": 26,
   "id": "27ee1375",
   "metadata": {
    "_kg_hide-input": true,
    "execution": {
     "iopub.execute_input": "2021-12-31T20:17:03.843140Z",
     "iopub.status.busy": "2021-12-31T20:17:03.842340Z",
     "iopub.status.idle": "2021-12-31T20:17:03.898709Z",
     "shell.execute_reply": "2021-12-31T20:17:03.899069Z",
     "shell.execute_reply.started": "2021-12-30T18:47:32.148151Z"
    },
    "papermill": {
     "duration": 4.339822,
     "end_time": "2021-12-31T20:17:03.899230",
     "exception": false,
     "start_time": "2021-12-31T20:16:59.559408",
     "status": "completed"
    },
    "tags": []
   },
   "outputs": [
    {
     "name": "stdout",
     "output_type": "stream",
     "text": [
      "Model: \"small_model\"\n",
      "_________________________________________________________________\n",
      "Layer (type)                 Output Shape              Param #   \n",
      "=================================================================\n",
      "input_1 (Dense)              (None, 100)               2100      \n",
      "_________________________________________________________________\n",
      "input_2 (Dense)              (None, 10)                1010      \n",
      "_________________________________________________________________\n",
      "output_layer (Dense)         (None, 1)                 11        \n",
      "=================================================================\n",
      "Total params: 3,121\n",
      "Trainable params: 3,121\n",
      "Non-trainable params: 0\n",
      "_________________________________________________________________\n"
     ]
    }
   ],
   "source": [
    "small_model.summary() # let's see its layer"
   ]
  },
  {
   "cell_type": "code",
   "execution_count": 27,
   "id": "b68a3b83",
   "metadata": {
    "_kg_hide-input": true,
    "execution": {
     "iopub.execute_input": "2021-12-31T20:17:12.055441Z",
     "iopub.status.busy": "2021-12-31T20:17:12.054619Z",
     "iopub.status.idle": "2021-12-31T20:17:12.861767Z",
     "shell.execute_reply": "2021-12-31T20:17:12.861136Z",
     "shell.execute_reply.started": "2021-12-30T18:47:32.150379Z"
    },
    "papermill": {
     "duration": 4.913086,
     "end_time": "2021-12-31T20:17:12.861891",
     "exception": false,
     "start_time": "2021-12-31T20:17:07.948805",
     "status": "completed"
    },
    "tags": []
   },
   "outputs": [
    {
     "data": {
      "image/png": "[encoded data removed]",
      "text/plain": [
       "<IPython.core.display.Image object>"
      ]
     },
     "execution_count": 27,
     "metadata": {},
     "output_type": "execute_result"
    }
   ],
   "source": [
    "tf.keras.utils.plot_model(small_model, show_shapes=True) # let's see its architecture"
   ]
  },
  {
   "cell_type": "markdown",
   "id": "d9200039",
   "metadata": {
    "papermill": {
     "duration": 4.500499,
     "end_time": "2021-12-31T20:17:21.620602",
     "exception": false,
     "start_time": "2021-12-31T20:17:17.120103",
     "status": "completed"
    },
    "tags": []
   },
   "source": [
    "Let's evaluate it!"
   ]
  },
  {
   "cell_type": "code",
   "execution_count": 28,
   "id": "aec2ffcc",
   "metadata": {
    "execution": {
     "iopub.execute_input": "2021-12-31T20:17:29.970220Z",
     "iopub.status.busy": "2021-12-31T20:17:29.969376Z",
     "iopub.status.idle": "2021-12-31T20:17:30.030364Z",
     "shell.execute_reply": "2021-12-31T20:17:30.029912Z",
     "shell.execute_reply.started": "2021-12-30T18:47:32.152691Z"
    },
    "papermill": {
     "duration": 4.079952,
     "end_time": "2021-12-31T20:17:30.030489",
     "exception": false,
     "start_time": "2021-12-31T20:17:25.950537",
     "status": "completed"
    },
    "tags": []
   },
   "outputs": [],
   "source": [
    "# Plot the validation and training data separately\n",
    "def plot_loss_curves(history):\n",
    "    \"\"\"\n",
    "    Returns separate loss curves for\n",
    "    training and validation metrics.\n",
    "    \"\"\"\n",
    "    # Loss and Val_loss\n",
    "    loss = history.history[\"loss\"]\n",
    "    val_loss = history.history[\"val_loss\"]\n",
    "    \n",
    "    # Mae and Val Mae\n",
    "    mae = history.history[\"mae\"]\n",
    "    val_mae = history.history[\"val_mae\"]\n",
    "    \n",
    "    # set the epochs\n",
    "    epochs = range(len(history.history[\"loss\"]))\n",
    "    \n",
    "    # Plot loss\n",
    "    plt.figure(figsize=(20, 7))\n",
    "    plt.subplot(1, 2, 1)\n",
    "    plt.plot(epochs, loss, label=\"Training_loss\", marker=\"o\", markerfacecolor=\"k\")\n",
    "    plt.plot(epochs, val_loss, label=\"Val_loss\", marker=\"o\", markerfacecolor=\"b\")\n",
    "    plt.title(\"Loss\")\n",
    "    plt.xlabel(\"Epochs\")\n",
    "    plt.legend()\n",
    "    \n",
    "    # Plot accuracy\n",
    "    plt.subplot(1, 2, 2)\n",
    "    plt.plot(epochs, mae, label=\"Training_mae\", marker=\"o\", markerfacecolor=\"k\")\n",
    "    plt.plot(epochs, val_mae, label=\"Val_mae\", marker=\"o\", markerfacecolor=\"b\")\n",
    "    plt.title(\"MAE\")\n",
    "    plt.xlabel(\"Epochs\")\n",
    "    plt.legend();"
   ]
  },
  {
   "cell_type": "code",
   "execution_count": 29,
   "id": "30588a05",
   "metadata": {
    "_kg_hide-input": false,
    "execution": {
     "iopub.execute_input": "2021-12-31T20:17:38.411193Z",
     "iopub.status.busy": "2021-12-31T20:17:38.410125Z",
     "iopub.status.idle": "2021-12-31T20:17:58.971518Z",
     "shell.execute_reply": "2021-12-31T20:17:58.971035Z",
     "shell.execute_reply.started": "2021-12-30T18:47:32.154374Z"
    },
    "papermill": {
     "duration": 24.909484,
     "end_time": "2021-12-31T20:17:58.971668",
     "exception": false,
     "start_time": "2021-12-31T20:17:34.062184",
     "status": "completed"
    },
    "tags": []
   },
   "outputs": [
    {
     "name": "stdout",
     "output_type": "stream",
     "text": [
      "9117/9117 [==============================] - 14s 2ms/step - loss: 159.7864 - mae: 159.7864\n"
     ]
    },
    {
     "data": {
      "text/plain": [
       "[159.78636169433594, 159.78636169433594]"
      ]
     },
     "execution_count": 29,
     "metadata": {},
     "output_type": "execute_result"
    }
   ],
   "source": [
    "small_model.evaluate(X_test, y_test) # evaluate it..."
   ]
  },
  {
   "cell_type": "code",
   "execution_count": 30,
   "id": "47f34373",
   "metadata": {
    "_kg_hide-input": true,
    "execution": {
     "iopub.execute_input": "2021-12-31T20:18:07.212560Z",
     "iopub.status.busy": "2021-12-31T20:18:07.211495Z",
     "iopub.status.idle": "2021-12-31T20:18:07.703430Z",
     "shell.execute_reply": "2021-12-31T20:18:07.703847Z",
     "shell.execute_reply.started": "2021-12-30T18:47:32.156367Z"
    },
    "papermill": {
     "duration": 4.652217,
     "end_time": "2021-12-31T20:18:07.703993",
     "exception": false,
     "start_time": "2021-12-31T20:18:03.051776",
     "status": "completed"
    },
    "tags": []
   },
   "outputs": [
    {
     "data": {
      "image/png": "[encoded data removed]",
      "text/plain": [
       "<Figure size 1440x504 with 2 Axes>"
      ]
     },
     "metadata": {},
     "output_type": "display_data"
    }
   ],
   "source": [
    "plot_loss_curves(small_model_history)"
   ]
  },
  {
   "cell_type": "markdown",
   "id": "9f876828",
   "metadata": {
    "papermill": {
     "duration": 4.142986,
     "end_time": "2021-12-31T20:18:16.179546",
     "exception": false,
     "start_time": "2021-12-31T20:18:12.036560",
     "status": "completed"
    },
    "tags": []
   },
   "source": [
    "Let's make a medium model"
   ]
  },
  {
   "cell_type": "code",
   "execution_count": 31,
   "id": "be8d4ece",
   "metadata": {
    "execution": {
     "iopub.execute_input": "2021-12-31T20:18:25.173261Z",
     "iopub.status.busy": "2021-12-31T20:18:25.172622Z",
     "iopub.status.idle": "2021-12-31T20:42:58.891041Z",
     "shell.execute_reply": "2021-12-31T20:42:58.891531Z",
     "shell.execute_reply.started": "2021-12-30T18:47:32.158238Z"
    },
    "papermill": {
     "duration": 1478.303709,
     "end_time": "2021-12-31T20:42:58.891715",
     "exception": false,
     "start_time": "2021-12-31T20:18:20.588006",
     "status": "completed"
    },
    "tags": []
   },
   "outputs": [
    {
     "name": "stdout",
     "output_type": "stream",
     "text": [
      "Epoch 1/15\n",
      "36465/36465 [==============================] - 93s 3ms/step - loss: 198.5909 - mae: 198.5909 - val_loss: 165.2664 - val_mae: 165.2664\n",
      "Epoch 2/15\n",
      "36465/36465 [==============================] - 93s 3ms/step - loss: 175.2809 - mae: 175.2809 - val_loss: 191.2341 - val_mae: 191.2341\n",
      "Epoch 3/15\n",
      "36465/36465 [==============================] - 93s 3ms/step - loss: 171.5850 - mae: 171.5850 - val_loss: 171.9935 - val_mae: 171.9935\n",
      "Epoch 4/15\n",
      "36465/36465 [==============================] - 107s 3ms/step - loss: 170.3807 - mae: 170.3807 - val_loss: 174.6167 - val_mae: 174.6167\n",
      "Epoch 5/15\n",
      "36465/36465 [==============================] - 94s 3ms/step - loss: 168.7600 - mae: 168.7600 - val_loss: 167.2780 - val_mae: 167.2780\n",
      "Epoch 6/15\n",
      "36465/36465 [==============================] - 94s 3ms/step - loss: 167.1869 - mae: 167.1869 - val_loss: 167.5713 - val_mae: 167.5713\n",
      "Epoch 7/15\n",
      "36465/36465 [==============================] - 107s 3ms/step - loss: 165.6610 - mae: 165.6610 - val_loss: 167.9518 - val_mae: 167.9518\n",
      "Epoch 8/15\n",
      "36465/36465 [==============================] - 90s 2ms/step - loss: 164.2008 - mae: 164.2008 - val_loss: 151.3257 - val_mae: 151.3257\n",
      "Epoch 9/15\n",
      "36465/36465 [==============================] - 105s 3ms/step - loss: 159.8899 - mae: 159.8899 - val_loss: 154.0759 - val_mae: 154.0759\n",
      "Epoch 10/15\n",
      "36465/36465 [==============================] - 95s 3ms/step - loss: 155.5643 - mae: 155.5643 - val_loss: 150.5241 - val_mae: 150.5241\n",
      "Epoch 11/15\n",
      "36465/36465 [==============================] - 100s 3ms/step - loss: 153.0111 - mae: 153.0111 - val_loss: 148.7778 - val_mae: 148.7778\n",
      "Epoch 12/15\n",
      "36465/36465 [==============================] - 96s 3ms/step - loss: 151.2803 - mae: 151.2803 - val_loss: 150.1092 - val_mae: 150.1092\n",
      "Epoch 13/15\n",
      "36465/36465 [==============================] - 106s 3ms/step - loss: 148.7806 - mae: 148.7806 - val_loss: 153.3314 - val_mae: 153.3314\n",
      "Epoch 14/15\n",
      "36465/36465 [==============================] - 101s 3ms/step - loss: 145.8857 - mae: 145.8857 - val_loss: 154.9387 - val_mae: 154.9387\n",
      "Epoch 15/15\n",
      "36465/36465 [==============================] - 100s 3ms/step - loss: 144.5133 - mae: 144.5133 - val_loss: 130.2422 - val_mae: 130.2422\n"
     ]
    }
   ],
   "source": [
    "# Set random seed\n",
    "set_seed()\n",
    "\n",
    "# Create the model\n",
    "medium_model = tf.keras.Sequential([\n",
    "    layers.Dense(200, activation=\"relu\", input_shape=[20], name=\"input_1\"),\n",
    "    layers.Dense(200, activation=\"relu\", name=\"input_2\"),\n",
    "    layers.Dense(10, activation=\"relu\", name=\"input_3\"),\n",
    "    layers.Dense(1, activation=\"relu\", name=\"output_layer\")\n",
    "], name=\"medium_model\")\n",
    "\n",
    "# Compile the model\n",
    "medium_model.compile(\n",
    "    loss=\"mae\",\n",
    "    optimizer=tf.keras.optimizers.Adam(learning_rate=0.01),\n",
    "    metrics=[\"mae\"]\n",
    ")\n",
    "\n",
    "# Fit the model\n",
    "medium_model_history = medium_model.fit(\n",
    "    X_train, y_train, \n",
    "    validation_data=(X_test, y_test),\n",
    "    epochs=15\n",
    ")"
   ]
  },
  {
   "cell_type": "markdown",
   "id": "1d1c7c2d",
   "metadata": {
    "papermill": {
     "duration": 10.766766,
     "end_time": "2021-12-31T20:43:20.945160",
     "exception": false,
     "start_time": "2021-12-31T20:43:10.178394",
     "status": "completed"
    },
    "tags": []
   },
   "source": [
    "great! look like our model is learning something! let's see its layer and architecture..."
   ]
  },
  {
   "cell_type": "code",
   "execution_count": 32,
   "id": "d9cf1c52",
   "metadata": {
    "_kg_hide-input": true,
    "execution": {
     "iopub.execute_input": "2021-12-31T20:43:42.889684Z",
     "iopub.status.busy": "2021-12-31T20:43:42.888873Z",
     "iopub.status.idle": "2021-12-31T20:43:42.946295Z",
     "shell.execute_reply": "2021-12-31T20:43:42.945841Z",
     "shell.execute_reply.started": "2021-12-30T18:47:32.160333Z"
    },
    "papermill": {
     "duration": 11.303025,
     "end_time": "2021-12-31T20:43:42.946424",
     "exception": false,
     "start_time": "2021-12-31T20:43:31.643399",
     "status": "completed"
    },
    "tags": []
   },
   "outputs": [
    {
     "name": "stdout",
     "output_type": "stream",
     "text": [
      "Model: \"medium_model\"\n",
      "_________________________________________________________________\n",
      "Layer (type)                 Output Shape              Param #   \n",
      "=================================================================\n",
      "input_1 (Dense)              (None, 200)               4200      \n",
      "_________________________________________________________________\n",
      "input_2 (Dense)              (None, 200)               40200     \n",
      "_________________________________________________________________\n",
      "input_3 (Dense)              (None, 10)                2010      \n",
      "_________________________________________________________________\n",
      "output_layer (Dense)         (None, 1)                 11        \n",
      "=================================================================\n",
      "Total params: 46,421\n",
      "Trainable params: 46,421\n",
      "Non-trainable params: 0\n",
      "_________________________________________________________________\n"
     ]
    }
   ],
   "source": [
    "medium_model.summary() # see its layer"
   ]
  },
  {
   "cell_type": "code",
   "execution_count": 33,
   "id": "5b88a355",
   "metadata": {
    "_kg_hide-input": true,
    "execution": {
     "iopub.execute_input": "2021-12-31T20:44:04.480357Z",
     "iopub.status.busy": "2021-12-31T20:44:04.479534Z",
     "iopub.status.idle": "2021-12-31T20:44:04.694703Z",
     "shell.execute_reply": "2021-12-31T20:44:04.694221Z",
     "shell.execute_reply.started": "2021-12-30T18:47:32.162211Z"
    },
    "papermill": {
     "duration": 11.007821,
     "end_time": "2021-12-31T20:44:04.694820",
     "exception": false,
     "start_time": "2021-12-31T20:43:53.686999",
     "status": "completed"
    },
    "tags": []
   },
   "outputs": [
    {
     "data": {
      "image/png": "[encoded data removed]",
      "text/plain": [
       "<IPython.core.display.Image object>"
      ]
     },
     "execution_count": 33,
     "metadata": {},
     "output_type": "execute_result"
    }
   ],
   "source": [
    "tf.keras.utils.plot_model(medium_model, show_shapes=True) # let's see its architecture"
   ]
  },
  {
   "cell_type": "markdown",
   "id": "54fe1c6e",
   "metadata": {
    "papermill": {
     "duration": 10.744026,
     "end_time": "2021-12-31T20:44:26.628394",
     "exception": false,
     "start_time": "2021-12-31T20:44:15.884368",
     "status": "completed"
    },
    "tags": []
   },
   "source": [
    "Let's evaluate it!"
   ]
  },
  {
   "cell_type": "code",
   "execution_count": 34,
   "id": "3c169418",
   "metadata": {
    "execution": {
     "iopub.execute_input": "2021-12-31T20:44:48.642876Z",
     "iopub.status.busy": "2021-12-31T20:44:48.642036Z",
     "iopub.status.idle": "2021-12-31T20:45:02.389828Z",
     "shell.execute_reply": "2021-12-31T20:45:02.390263Z",
     "shell.execute_reply.started": "2021-12-30T18:47:32.163785Z"
    },
    "papermill": {
     "duration": 24.974394,
     "end_time": "2021-12-31T20:45:02.390414",
     "exception": false,
     "start_time": "2021-12-31T20:44:37.416020",
     "status": "completed"
    },
    "tags": []
   },
   "outputs": [
    {
     "name": "stdout",
     "output_type": "stream",
     "text": [
      "9117/9117 [==============================] - 14s 1ms/step - loss: 130.2422 - mae: 130.2422\n"
     ]
    },
    {
     "data": {
      "text/plain": [
       "[130.2421875, 130.2421875]"
      ]
     },
     "execution_count": 34,
     "metadata": {},
     "output_type": "execute_result"
    }
   ],
   "source": [
    "medium_model.evaluate(X_test, y_test) # evaluate it..."
   ]
  },
  {
   "cell_type": "code",
   "execution_count": 35,
   "id": "720d3564",
   "metadata": {
    "_kg_hide-input": true,
    "execution": {
     "iopub.execute_input": "2021-12-31T20:45:24.617305Z",
     "iopub.status.busy": "2021-12-31T20:45:24.616486Z",
     "iopub.status.idle": "2021-12-31T20:45:25.205377Z",
     "shell.execute_reply": "2021-12-31T20:45:25.205757Z",
     "shell.execute_reply.started": "2021-12-30T18:47:32.166393Z"
    },
    "papermill": {
     "duration": 11.897287,
     "end_time": "2021-12-31T20:45:25.205919",
     "exception": false,
     "start_time": "2021-12-31T20:45:13.308632",
     "status": "completed"
    },
    "tags": []
   },
   "outputs": [
    {
     "data": {
      "image/png": "[encoded data removed]",
      "text/plain": [
       "<Figure size 1440x504 with 2 Axes>"
      ]
     },
     "metadata": {},
     "output_type": "display_data"
    }
   ],
   "source": [
    "plot_loss_curves(medium_model_history)"
   ]
  },
  {
   "cell_type": "markdown",
   "id": "f3094dd3",
   "metadata": {
    "papermill": {
     "duration": 10.825717,
     "end_time": "2021-12-31T20:45:46.795747",
     "exception": false,
     "start_time": "2021-12-31T20:45:35.970030",
     "status": "completed"
    },
    "tags": []
   },
   "source": [
    "Let's make a larger model!"
   ]
  },
  {
   "cell_type": "code",
   "execution_count": 36,
   "id": "0344e885",
   "metadata": {
    "execution": {
     "iopub.execute_input": "2021-12-31T20:46:08.846695Z",
     "iopub.status.busy": "2021-12-31T20:46:08.845862Z",
     "iopub.status.idle": "2021-12-31T21:21:14.210795Z",
     "shell.execute_reply": "2021-12-31T21:21:14.211176Z",
     "shell.execute_reply.started": "2021-12-30T18:47:32.16858Z"
    },
    "papermill": {
     "duration": 2116.164244,
     "end_time": "2021-12-31T21:21:14.211360",
     "exception": false,
     "start_time": "2021-12-31T20:45:58.047116",
     "status": "completed"
    },
    "tags": []
   },
   "outputs": [
    {
     "name": "stdout",
     "output_type": "stream",
     "text": [
      "Epoch 1/20\n",
      "36465/36465 [==============================] - 104s 3ms/step - loss: 187.3878 - mae: 187.3878 - val_loss: 165.1807 - val_mae: 165.1807\n",
      "Epoch 2/20\n",
      "36465/36465 [==============================] - 102s 3ms/step - loss: 169.6405 - mae: 169.6405 - val_loss: 169.6728 - val_mae: 169.6728\n",
      "Epoch 3/20\n",
      "36465/36465 [==============================] - 112s 3ms/step - loss: 164.1212 - mae: 164.1212 - val_loss: 154.0227 - val_mae: 154.0227\n",
      "Epoch 4/20\n",
      "36465/36465 [==============================] - 103s 3ms/step - loss: 163.1956 - mae: 163.1956 - val_loss: 152.4968 - val_mae: 152.4968\n",
      "Epoch 5/20\n",
      "36465/36465 [==============================] - 102s 3ms/step - loss: 161.4335 - mae: 161.4335 - val_loss: 151.5098 - val_mae: 151.5098\n",
      "Epoch 6/20\n",
      "36465/36465 [==============================] - 113s 3ms/step - loss: 159.8086 - mae: 159.8086 - val_loss: 157.0022 - val_mae: 157.0022\n",
      "Epoch 7/20\n",
      "36465/36465 [==============================] - 105s 3ms/step - loss: 159.0753 - mae: 159.0753 - val_loss: 149.8005 - val_mae: 149.8005\n",
      "Epoch 8/20\n",
      "36465/36465 [==============================] - 104s 3ms/step - loss: 160.6801 - mae: 160.6801 - val_loss: 177.6735 - val_mae: 177.6735\n",
      "Epoch 9/20\n",
      "36465/36465 [==============================] - 114s 3ms/step - loss: 157.0658 - mae: 157.0658 - val_loss: 153.6567 - val_mae: 153.6567\n",
      "Epoch 10/20\n",
      "36465/36465 [==============================] - 104s 3ms/step - loss: 156.1842 - mae: 156.1842 - val_loss: 197.4921 - val_mae: 197.4921\n",
      "Epoch 11/20\n",
      "36465/36465 [==============================] - 109s 3ms/step - loss: 157.3331 - mae: 157.3331 - val_loss: 150.5733 - val_mae: 150.5733\n",
      "Epoch 12/20\n",
      "36465/36465 [==============================] - 103s 3ms/step - loss: 156.4263 - mae: 156.4263 - val_loss: 144.9680 - val_mae: 144.9680\n",
      "Epoch 13/20\n",
      "36465/36465 [==============================] - 93s 3ms/step - loss: 155.3703 - mae: 155.3703 - val_loss: 148.4829 - val_mae: 148.4829\n",
      "Epoch 14/20\n",
      "36465/36465 [==============================] - 106s 3ms/step - loss: 154.2830 - mae: 154.2830 - val_loss: 148.4012 - val_mae: 148.4012\n",
      "Epoch 15/20\n",
      "36465/36465 [==============================] - 103s 3ms/step - loss: 154.1089 - mae: 154.1089 - val_loss: 149.2883 - val_mae: 149.2883\n",
      "Epoch 16/20\n",
      "36465/36465 [==============================] - 94s 3ms/step - loss: 156.2367 - mae: 156.2367 - val_loss: 148.6498 - val_mae: 148.6498\n",
      "Epoch 17/20\n",
      "36465/36465 [==============================] - 117s 3ms/step - loss: 156.1625 - mae: 156.1625 - val_loss: 148.9974 - val_mae: 148.9974\n",
      "Epoch 18/20\n",
      "36465/36465 [==============================] - 94s 3ms/step - loss: 154.5532 - mae: 154.5532 - val_loss: 153.5391 - val_mae: 153.5391\n",
      "Epoch 19/20\n",
      "36465/36465 [==============================] - 104s 3ms/step - loss: 154.8092 - mae: 154.8092 - val_loss: 148.5349 - val_mae: 148.5349\n",
      "Epoch 20/20\n",
      "36465/36465 [==============================] - 118s 3ms/step - loss: 154.1159 - mae: 154.1159 - val_loss: 156.9274 - val_mae: 156.9274\n"
     ]
    }
   ],
   "source": [
    "# Set the seed\n",
    "set_seed()\n",
    "\n",
    "# Create the model\n",
    "larger_model = tf.keras.Sequential([\n",
    "    layers.Dense(512, activation=\"relu\", input_shape=[20], name=\"input_1\"),\n",
    "    layers.Dense(512, activation=\"relu\", name=\"input_2\"),\n",
    "    layers.Dense(512, activation=\"relu\", name=\"input_3\"),\n",
    "    layers.Dense(512, activation=\"relu\", name=\"input_4\"),\n",
    "    layers.Dense(1, activation=\"relu\", name=\"output_layer\")\n",
    "], name=\"larger_model\")\n",
    "\n",
    "# Compile the model\n",
    "larger_model.compile(\n",
    "    loss=\"mae\",\n",
    "    optimizer=tf.keras.optimizers.Adam(learning_rate=0.01),\n",
    "    metrics=[\"mae\"]\n",
    ")\n",
    "\n",
    "# Fit the model\n",
    "larger_model_history = larger_model.fit(\n",
    "    X_train, y_train,\n",
    "    validation_data=(X_test, y_test),\n",
    "    epochs=20\n",
    ") "
   ]
  },
  {
   "cell_type": "markdown",
   "id": "1c6847e4",
   "metadata": {
    "papermill": {
     "duration": 20.803433,
     "end_time": "2021-12-31T21:21:54.741822",
     "exception": false,
     "start_time": "2021-12-31T21:21:33.938389",
     "status": "completed"
    },
    "tags": []
   },
   "source": [
    "Let's see its layer and architecture!"
   ]
  },
  {
   "cell_type": "code",
   "execution_count": 37,
   "id": "1331f005",
   "metadata": {
    "_kg_hide-input": true,
    "execution": {
     "iopub.execute_input": "2021-12-31T21:22:35.103984Z",
     "iopub.status.busy": "2021-12-31T21:22:35.103107Z",
     "iopub.status.idle": "2021-12-31T21:22:35.161630Z",
     "shell.execute_reply": "2021-12-31T21:22:35.162010Z",
     "shell.execute_reply.started": "2021-12-30T18:47:32.169815Z"
    },
    "papermill": {
     "duration": 20.092786,
     "end_time": "2021-12-31T21:22:35.162174",
     "exception": false,
     "start_time": "2021-12-31T21:22:15.069388",
     "status": "completed"
    },
    "tags": []
   },
   "outputs": [
    {
     "name": "stdout",
     "output_type": "stream",
     "text": [
      "Model: \"larger_model\"\n",
      "_________________________________________________________________\n",
      "Layer (type)                 Output Shape              Param #   \n",
      "=================================================================\n",
      "input_1 (Dense)              (None, 512)               10752     \n",
      "_________________________________________________________________\n",
      "input_2 (Dense)              (None, 512)               262656    \n",
      "_________________________________________________________________\n",
      "input_3 (Dense)              (None, 512)               262656    \n",
      "_________________________________________________________________\n",
      "input_4 (Dense)              (None, 512)               262656    \n",
      "_________________________________________________________________\n",
      "output_layer (Dense)         (None, 1)                 513       \n",
      "=================================================================\n",
      "Total params: 799,233\n",
      "Trainable params: 799,233\n",
      "Non-trainable params: 0\n",
      "_________________________________________________________________\n"
     ]
    }
   ],
   "source": [
    "larger_model.summary() # see its layer"
   ]
  },
  {
   "cell_type": "code",
   "execution_count": 38,
   "id": "3d295c8e",
   "metadata": {
    "_kg_hide-input": true,
    "execution": {
     "iopub.execute_input": "2021-12-31T21:23:16.370521Z",
     "iopub.status.busy": "2021-12-31T21:23:16.369686Z",
     "iopub.status.idle": "2021-12-31T21:23:16.592716Z",
     "shell.execute_reply": "2021-12-31T21:23:16.592242Z",
     "shell.execute_reply.started": "2021-12-30T18:47:32.17145Z"
    },
    "papermill": {
     "duration": 20.678725,
     "end_time": "2021-12-31T21:23:16.592837",
     "exception": false,
     "start_time": "2021-12-31T21:22:55.914112",
     "status": "completed"
    },
    "tags": []
   },
   "outputs": [
    {
     "data": {
      "image/png": "[encoded data removed]",
      "text/plain": [
       "<IPython.core.display.Image object>"
      ]
     },
     "execution_count": 38,
     "metadata": {},
     "output_type": "execute_result"
    }
   ],
   "source": [
    "tf.keras.utils.plot_model(larger_model, show_shapes=True) # let's see its architecture"
   ]
  },
  {
   "cell_type": "markdown",
   "id": "d78ca7a1",
   "metadata": {
    "papermill": {
     "duration": 20.324052,
     "end_time": "2021-12-31T21:23:56.782038",
     "exception": false,
     "start_time": "2021-12-31T21:23:36.457986",
     "status": "completed"
    },
    "tags": []
   },
   "source": [
    "Let's evaluate it!"
   ]
  },
  {
   "cell_type": "code",
   "execution_count": 39,
   "id": "55712cb2",
   "metadata": {
    "execution": {
     "iopub.execute_input": "2021-12-31T21:24:37.333950Z",
     "iopub.status.busy": "2021-12-31T21:24:37.333050Z",
     "iopub.status.idle": "2021-12-31T21:24:57.906783Z",
     "shell.execute_reply": "2021-12-31T21:24:57.905951Z",
     "shell.execute_reply.started": "2021-12-30T18:47:32.172674Z"
    },
    "papermill": {
     "duration": 41.115313,
     "end_time": "2021-12-31T21:24:57.906918",
     "exception": false,
     "start_time": "2021-12-31T21:24:16.791605",
     "status": "completed"
    },
    "tags": []
   },
   "outputs": [
    {
     "name": "stdout",
     "output_type": "stream",
     "text": [
      "9117/9117 [==============================] - 14s 2ms/step - loss: 156.9274 - mae: 156.9274\n"
     ]
    },
    {
     "data": {
      "text/plain": [
       "[156.92738342285156, 156.92738342285156]"
      ]
     },
     "execution_count": 39,
     "metadata": {},
     "output_type": "execute_result"
    }
   ],
   "source": [
    "larger_model.evaluate(X_test, y_test) # evaluate it..."
   ]
  },
  {
   "cell_type": "code",
   "execution_count": 40,
   "id": "ff83a36b",
   "metadata": {
    "_kg_hide-input": true,
    "execution": {
     "iopub.execute_input": "2021-12-31T21:25:38.878260Z",
     "iopub.status.busy": "2021-12-31T21:25:38.877472Z",
     "iopub.status.idle": "2021-12-31T21:25:39.419499Z",
     "shell.execute_reply": "2021-12-31T21:25:39.419010Z",
     "shell.execute_reply.started": "2021-12-30T18:47:32.174992Z"
    },
    "papermill": {
     "duration": 21.349277,
     "end_time": "2021-12-31T21:25:39.419626",
     "exception": false,
     "start_time": "2021-12-31T21:25:18.070349",
     "status": "completed"
    },
    "tags": []
   },
   "outputs": [
    {
     "data": {
      "image/png": "[encoded data removed]",
      "text/plain": [
       "<Figure size 1440x504 with 2 Axes>"
      ]
     },
     "metadata": {},
     "output_type": "display_data"
    }
   ],
   "source": [
    "plot_loss_curves(larger_model_history)"
   ]
  }
 ],
 "metadata": {
  "kernelspec": {
   "display_name": "Python 3",
   "language": "python",
   "name": "python3"
  },
  "language_info": {
   "codemirror_mode": {
    "name": "ipython",
    "version": 3
   },
   "file_extension": ".py",
   "mimetype": "text/x-python",
   "name": "python",
   "nbconvert_exporter": "python",
   "pygments_lexer": "ipython3",
   "version": "3.7.12"
  },
  "papermill": {
   "default_parameters": {},
   "duration": 5488.591939,
   "end_time": "2021-12-31T21:31:27.396800",
   "environment_variables": {},
   "exception": null,
   "input_path": "__notebook__.ipynb",
   "output_path": "__notebook__.ipynb",
   "parameters": {},
   "start_time": "2021-12-31T19:59:58.804861",
   "version": "2.3.3"
  }
 },
 "nbformat": 4,
 "nbformat_minor": 5
}
